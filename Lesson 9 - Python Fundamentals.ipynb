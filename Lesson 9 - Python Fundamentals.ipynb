{
  "cells": [
    {
      "cell_type": "markdown",
      "metadata": {
        "id": "view-in-github",
        "colab_type": "text"
      },
      "source": [
        "<a href=\"https://colab.research.google.com/github/MeldaBarrazaVirgilio/CCDProject/blob/main/Lesson%209%20-%20Python%20Fundamentals.ipynb\" target=\"_parent\"><img src=\"https://colab.research.google.com/assets/colab-badge.svg\" alt=\"Open In Colab\"/></a>"
      ]
    },
    {
      "cell_type": "markdown",
      "metadata": {
        "id": "Nb2E9XgVR47H"
      },
      "source": [
        "<img src=\"https://github.com/christopherhuntley/data5405/blob/main/img/Dolan.png?raw=true\" width=\"180px\" align=\"right\">\n",
        "\n",
        "# **Lesson 9: Dictionaries**\n",
        "_Associative arrays by another name_"
      ]
    },
    {
      "cell_type": "markdown",
      "metadata": {
        "id": "44ouNlUdR47I"
      },
      "source": [
        "## **Learning Objectives**\n",
        "\n",
        "### Theory / Be able to explain ...\n",
        "- The purpose and usage of associative arrays\n",
        "- Python dictionaries as associative arrays\n",
        "- Hashing and it's implications for dictionary keys\n",
        "\n",
        "### Skills / Know how to  ...\n",
        "- Display the hash for any dictionary key\n",
        "- Iterate over dictionary items, keys, and values\n",
        "- Generate dictionaries from keys and values\n",
        "- Use a dictionary comprehension for efficient dictionary generation\n",
        "---"
      ]
    },
    {
      "cell_type": "markdown",
      "metadata": {
        "id": "mhKggwZKR47J"
      },
      "source": [
        "## **The Magic of Associative Arrays**\n",
        ">\"A very little key will open a very heavy door.\" -― Charles Dickens, _Hunted Down_\n",
        "\n",
        "After so many years of programming in C, I found myself using it for basically everything, until one day in 1994 I was asked by a very wise boss to try [AWK](https://en.wikipedia.org/wiki/AWK). AWK was a text processing language developed at Bell Labs in the 1970s by the same team that created C and Unix. It was designed to be a tiny domain-specific language for working with streaming text data. One would feed data to an AWK script one line at a time. AWK would then output text to an output file, also one line at a time. It could, of course, remember things from one line to the next, allowing it to accumulate information along the way.\n",
        "\n",
        "Soon I was using AWK for lots of text processing tasks. One notable application was to translate mainframe data into SQL code for loading into a relational database. Data would come in one line at a time and then go right into the database. I think I got at least one promotion from just this one parlor trick. A year or so later, in late 1995 or early 1996, I used the same trick to develop a dashboarding web app that was cobbled together with AWK and bash scripts. No Perl. No Python. No PHP. No Java. Just AWK and bash on a Unix command line. I am still amazed that it worked but we never had a crash or any other bug reported.   \n",
        "\n",
        "One of the reasons why I loved AWK so much was a feature called \"associative arrays\" where we could index a variable length array with text **keys** instead of integers. We could even mix keys with integer indexes if we liked. This meant that, for example, I could have an array of birthdays indexed by people's names. Or vice versa if that was what I wanted.  Or, I could create a histogram for words in a file with two lines of code. The potential uses seemed endless. Nothing could have been more convenient for a wannabe smart and lazy programmer.\n",
        "\n",
        "The Python equivalent of an associative array is a **dictionary**. It does many of the same things as a list but with keys instead of positions. Like associative arrays, there are an endless array of uses. If you have ever pulled data from a web API or added a Series to a DataFrame then you have used something like a dictionary. It's just how it's done."
      ]
    },
    {
      "cell_type": "markdown",
      "metadata": {
        "id": "G8siTXWzR47K"
      },
      "source": [
        "---\n",
        "## **Dictionaries as Collections of Key-Value Pairs**\n",
        "Python dictionaries have the type `dict`. Here's a brief example, followed by a few notes."
      ]
    },
    {
      "cell_type": "code",
      "execution_count": null,
      "metadata": {
        "colab": {
          "base_uri": "https://localhost:8080/"
        },
        "id": "orEq7-QrR47K",
        "outputId": "748c31d7-fa0f-4d44-f2e0-fe1a19874c00"
      },
      "outputs": [
        {
          "output_type": "stream",
          "name": "stdout",
          "text": [
            "Washington was born 1732-02-22\n",
            "Jefferson was born 1743-04-13\n",
            "Lincoln was born 1809-02-12\n",
            "Madison was born 1751-03-16\n"
          ]
        }
      ],
      "source": [
        "birthdays = {'Washington':'1732-02-22','Jefferson':'1743-04-13','Lincoln':'1809-02-12'}\n",
        "birthdays['Madison']='1751-03-16'\n",
        "for president in birthdays:\n",
        "    print(president,\"was born\", birthdays[president])"
      ]
    },
    {
      "cell_type": "markdown",
      "metadata": {
        "id": "QMyg-v1ZR47R"
      },
      "source": [
        "- `dict` literals work like `list` literals except they use curly brackets `{}` instead of square brackets `[]`.\n",
        "- `dict` indexes use **keys** of any **Hashable** type (more about this in a minute) instead of just integers.\n",
        "- Each key-value pair is literally encoded as `key : value`. if a key is repeated within a dictionary then the value is replaced with each time with the newest value.\n",
        "- The bracket operator `[]` is used for retrieving specific values, just like a list.\n",
        "- Dictionaries are mutable. We can add or remove key-value pairs as needed. The `+=` operator doesn't work though. Use the `[ ]` operator instead."
      ]
    },
    {
      "cell_type": "code",
      "execution_count": null,
      "metadata": {
        "colab": {
          "base_uri": "https://localhost:8080/",
          "height": 141
        },
        "id": "ON6hGG8GR47S",
        "outputId": "2e6a609d-e23a-4406-b010-4a9a0e1cb3af"
      },
      "outputs": [
        {
          "output_type": "error",
          "ename": "TypeError",
          "evalue": "unsupported operand type(s) for +=: 'dict' and 'dict'",
          "traceback": [
            "\u001b[0;31m---------------------------------------------------------------------------\u001b[0m",
            "\u001b[0;31mTypeError\u001b[0m                                 Traceback (most recent call last)",
            "\u001b[0;32m<ipython-input-3-747fa0da6398>\u001b[0m in \u001b[0;36m<cell line: 1>\u001b[0;34m()\u001b[0m\n\u001b[0;32m----> 1\u001b[0;31m \u001b[0mbirthdays\u001b[0m \u001b[0;34m+=\u001b[0m \u001b[0;34m{\u001b[0m\u001b[0;34m'Adams Sr.'\u001b[0m\u001b[0;34m:\u001b[0m\u001b[0;34m'1735-10-30'\u001b[0m\u001b[0;34m}\u001b[0m\u001b[0;34m\u001b[0m\u001b[0;34m\u001b[0m\u001b[0m\n\u001b[0m",
            "\u001b[0;31mTypeError\u001b[0m: unsupported operand type(s) for +=: 'dict' and 'dict'"
          ]
        }
      ],
      "source": [
        "birthdays += {'Adams Sr.':'1735-10-30'}"
      ]
    },
    {
      "cell_type": "code",
      "execution_count": null,
      "metadata": {
        "id": "3jyuuVbrjKSM",
        "outputId": "1cc1d964-dee5-4d86-b4f8-3d2f899b2bc7",
        "colab": {
          "base_uri": "https://localhost:8080/"
        }
      },
      "outputs": [
        {
          "output_type": "execute_result",
          "data": {
            "text/plain": [
              "{'Washington': '1732-02-22',\n",
              " 'Jefferson': '1743-04-13',\n",
              " 'Lincoln': '1809-02-12',\n",
              " 'Madison': '1751-03-16',\n",
              " 'Adams Sr.': '1735-10-30'}"
            ]
          },
          "metadata": {},
          "execution_count": 7
        }
      ],
      "source": [
        "birthdays['Adams Sr.'] = '1735-10-30'\n",
        "birthdays"
      ]
    },
    {
      "cell_type": "markdown",
      "metadata": {
        "id": "jjzggUmPjKSN"
      },
      "source": [
        "## **An Aside about Sets**\n",
        "\n",
        "The built-in `set` data type is one of the hidden gems in the Python standard library.\n",
        "\n",
        "A `set` is like a `list` but ... :\n",
        "- With no duplicate items\n",
        "- No implied ordering (and thus no `[ ]` indexing or slicing)\n",
        "\n",
        "Here are a couple examples:"
      ]
    },
    {
      "cell_type": "code",
      "execution_count": null,
      "metadata": {
        "id": "jfF8uJ5kjKSN",
        "outputId": "5f9d504e-8675-45f2-8271-465aeea615ef",
        "colab": {
          "base_uri": "https://localhost:8080/"
        }
      },
      "outputs": [
        {
          "output_type": "execute_result",
          "data": {
            "text/plain": [
              "{1, 2, 3}"
            ]
          },
          "metadata": {},
          "execution_count": 8
        }
      ],
      "source": [
        "# a list of numbers\n",
        "{1,2,2,3}"
      ]
    },
    {
      "cell_type": "code",
      "execution_count": null,
      "metadata": {
        "id": "PPCN_1TLjKSN",
        "outputId": "4a4899bf-2584-463b-e429-917d8edadcf1",
        "colab": {
          "base_uri": "https://localhost:8080/",
          "height": 228
        }
      },
      "outputs": [
        {
          "output_type": "stream",
          "name": "stderr",
          "text": [
            "<>:2: SyntaxWarning: 'set' object is not subscriptable; perhaps you missed a comma?\n",
            "<>:2: SyntaxWarning: 'set' object is not subscriptable; perhaps you missed a comma?\n",
            "<ipython-input-9-92f9f86a2d70>:2: SyntaxWarning: 'set' object is not subscriptable; perhaps you missed a comma?\n",
            "  {1,2,2,3}[1]\n"
          ]
        },
        {
          "output_type": "error",
          "ename": "TypeError",
          "evalue": "'set' object is not subscriptable",
          "traceback": [
            "\u001b[0;31m---------------------------------------------------------------------------\u001b[0m",
            "\u001b[0;31mTypeError\u001b[0m                                 Traceback (most recent call last)",
            "\u001b[0;32m<ipython-input-9-92f9f86a2d70>\u001b[0m in \u001b[0;36m<cell line: 2>\u001b[0;34m()\u001b[0m\n\u001b[1;32m      1\u001b[0m \u001b[0;31m# that has no implied ordering\u001b[0m\u001b[0;34m\u001b[0m\u001b[0;34m\u001b[0m\u001b[0m\n\u001b[0;32m----> 2\u001b[0;31m \u001b[0;34m{\u001b[0m\u001b[0;36m1\u001b[0m\u001b[0;34m,\u001b[0m\u001b[0;36m2\u001b[0m\u001b[0;34m,\u001b[0m\u001b[0;36m2\u001b[0m\u001b[0;34m,\u001b[0m\u001b[0;36m3\u001b[0m\u001b[0;34m}\u001b[0m\u001b[0;34m[\u001b[0m\u001b[0;36m1\u001b[0m\u001b[0;34m]\u001b[0m\u001b[0;34m\u001b[0m\u001b[0;34m\u001b[0m\u001b[0m\n\u001b[0m",
            "\u001b[0;31mTypeError\u001b[0m: 'set' object is not subscriptable"
          ]
        }
      ],
      "source": [
        "# that has no implied ordering\n",
        "{1,2,2,3}[1]"
      ]
    },
    {
      "cell_type": "markdown",
      "metadata": {
        "id": "L03txAz7jKSO"
      },
      "source": [
        "You may be telling yourself \"Okay, so what? It seems like we could just use a list for that.\"\n",
        "\n",
        "They key here is that sets enforce some rules that are very useful for certain kinds of data analysis.\n",
        "- The no duplicates rule allows us to construct sets of **keys** without accidentally creating duplicates. So where might we care about that? With `dict` keys, for example.\n",
        "- The lack of ordering forces us to go beyond indexed (`[ ]`) access to items and instead use a proper iterator. It's just more Pythonic and less prone to certain classes of bugs.\n",
        "\n",
        "> **Heads Up:** The standard set iterator (used by `for` loops, etc.) traverses the items in ascending order. In other words `list(set( ... ))` is the same as `sorted(list(set( ... )))`. This can be useful if you want to treat a set like a list without having to sort it first."
      ]
    },
    {
      "cell_type": "markdown",
      "metadata": {
        "id": "5-G6m5kYR47V",
        "tags": []
      },
      "source": [
        "### **Hashing**\n",
        "To ensure data integrity, dictionary keys (and `set` items) are required to be:\n",
        "- **Unique**: If two items have the same key, then how do we know which is which?\n",
        "- **Immutable**: If we can change the value of a key (e.g., via aliasing) then how does the dictionary let everybody know about it?\n",
        "- **Printable**: If not printable/visible, then how can we humans use them safely?\n",
        "\n",
        "When passed an object, a **hashing** function generates a _printable_ **hash** or **digest** value that is _almost_ guaranteed to be unique. The odds of \"collision\" (i.e., two objects with the same hash) is very, very, very remote. Further, if the object being hashed is itself immutable then we have met all three requirements for dictionary keys:\n",
        "\n",
        "1. Each key has a unique hash. If two keys are the same then they generate the same hash.\n",
        "2. Because the key is required to be immutable, then so is the hash.\n",
        "3. Hashes are printable as (typically) very long strings of characters or digits. So, even if the key itself isn't printable, its hash is.\n",
        "\n",
        "Besides its obvious integrity advantages, hashing of keys is also highly efficient. Since hashes are convertible to strings or integers, we can sort them just like list positions. That makes using a key to lookup a value just as efficient as using an integer index to look up a value in a list. (Ever used a primary key or index to speed up a SQL query? That's exactly the same thing.)\n",
        "\n",
        "While the precise hashing function may vary from data type to data type, the default implementation uses a version of the Fowler-Noll-Vo algorithm which is outside the scope of this course. However, we can call the `hash()` standard library function on any immutable object with 100% predictable results:   "
      ]
    },
    {
      "cell_type": "code",
      "execution_count": null,
      "metadata": {
        "colab": {
          "base_uri": "https://localhost:8080/",
          "height": 280
        },
        "id": "2uBjxAXBR47V",
        "outputId": "30b886b8-7b2d-472b-cbc6-ef4801852b10"
      },
      "outputs": [
        {
          "output_type": "stream",
          "name": "stdout",
          "text": [
            "1\n",
            "691752902764107778\n",
            "4190155967270737076\n",
            "4190155967270737076\n",
            "529344067295497451\n",
            "2468734438158\n"
          ]
        },
        {
          "output_type": "error",
          "ename": "TypeError",
          "evalue": "unhashable type: 'list'",
          "traceback": [
            "\u001b[0;31m---------------------------------------------------------------------------\u001b[0m",
            "\u001b[0;31mTypeError\u001b[0m                                 Traceback (most recent call last)",
            "\u001b[0;32m<ipython-input-10-ba994757e183>\u001b[0m in \u001b[0;36m<cell line: 7>\u001b[0;34m()\u001b[0m\n\u001b[1;32m      5\u001b[0m \u001b[0mprint\u001b[0m\u001b[0;34m(\u001b[0m\u001b[0mhash\u001b[0m\u001b[0;34m(\u001b[0m \u001b[0;34m(\u001b[0m\u001b[0;36m1\u001b[0m\u001b[0;34m,\u001b[0m\u001b[0;36m2\u001b[0m\u001b[0;34m,\u001b[0m\u001b[0;36m3\u001b[0m\u001b[0;34m)\u001b[0m \u001b[0;34m)\u001b[0m\u001b[0;34m)\u001b[0m                   \u001b[0;31m# tuple, which is immutable\u001b[0m\u001b[0;34m\u001b[0m\u001b[0;34m\u001b[0m\u001b[0m\n\u001b[1;32m      6\u001b[0m \u001b[0mprint\u001b[0m\u001b[0;34m(\u001b[0m\u001b[0mhash\u001b[0m\u001b[0;34m(\u001b[0m \u001b[0mhash\u001b[0m \u001b[0;34m)\u001b[0m\u001b[0;34m)\u001b[0m                      \u001b[0;31m# the hash function object\u001b[0m\u001b[0;34m\u001b[0m\u001b[0;34m\u001b[0m\u001b[0m\n\u001b[0;32m----> 7\u001b[0;31m \u001b[0mprint\u001b[0m\u001b[0;34m(\u001b[0m\u001b[0mhash\u001b[0m\u001b[0;34m(\u001b[0m \u001b[0;34m[\u001b[0m\u001b[0;36m1\u001b[0m\u001b[0;34m,\u001b[0m\u001b[0;36m2\u001b[0m\u001b[0;34m,\u001b[0m\u001b[0;36m3\u001b[0m\u001b[0;34m]\u001b[0m \u001b[0;34m)\u001b[0m\u001b[0;34m)\u001b[0m                   \u001b[0;31m# list; oops that's mutable!\u001b[0m\u001b[0;34m\u001b[0m\u001b[0;34m\u001b[0m\u001b[0m\n\u001b[0m",
            "\u001b[0;31mTypeError\u001b[0m: unhashable type: 'list'"
          ]
        }
      ],
      "source": [
        "print(hash( 1 ))                         # int\n",
        "print(hash( 2.3 ))                       # float\n",
        "print(hash( \"Mary Had a Little Lamb\" ))  # string\n",
        "print(hash( b'Mary Had a Little Lamb' )) # bytes (same as string)\n",
        "print(hash( (1,2,3) ))                   # tuple, which is immutable\n",
        "print(hash( hash ))                      # the hash function object\n",
        "print(hash( [1,2,3] ))                   # list; oops that's mutable!"
      ]
    },
    {
      "cell_type": "markdown",
      "metadata": {
        "id": "PBrniJ3JR47Y"
      },
      "source": [
        "### **Dictionary Traversal**\n",
        "When iterating over a `dict`, we can use one of three iterator **_view methods_** that return list-like sequences:\n",
        "- `keys()` which returns all keys\n",
        "- `values()` which returns all the values\n",
        "- `items()` which returns all the key-value pairs (a.k.a., \"items\")\n",
        "\n",
        "When used in a `for` loop the default is to use the `keys()` iterator:"
      ]
    },
    {
      "cell_type": "code",
      "execution_count": null,
      "metadata": {
        "colab": {
          "base_uri": "https://localhost:8080/"
        },
        "id": "VS0YkgquR47Y",
        "outputId": "7921655f-2dc6-48ac-910a-74270ec26023"
      },
      "outputs": [
        {
          "output_type": "stream",
          "name": "stdout",
          "text": [
            "Washington was born 1732-02-22\n",
            "Jefferson was born 1743-04-13\n",
            "Lincoln was born 1809-02-12\n",
            "Madison was born 1751-03-16\n",
            "Adams Sr. was born 1735-10-30\n",
            "---\n",
            "Washington was born 1735-10-30\n",
            "Jefferson was born 1735-10-30\n",
            "Lincoln was born 1735-10-30\n",
            "Madison was born 1735-10-30\n",
            "Adams Sr. was born 1735-10-30\n"
          ]
        }
      ],
      "source": [
        "# the default iteration order\n",
        "# birthdays is still a dict indexed by last name\n",
        "for president in birthdays:\n",
        "    print(president,\"was born\", birthdays[president])\n",
        "print(\"---\")\n",
        "# explicitly iterating over keys()\n",
        "for key in birthdays.keys():\n",
        "    print(key,\"was born\", birthdays[president])"
      ]
    },
    {
      "cell_type": "markdown",
      "metadata": {
        "id": "K_k7CGIIR47b"
      },
      "source": [
        "However, we can also iterate over items or even values, though with somewhat differing results."
      ]
    },
    {
      "cell_type": "code",
      "execution_count": null,
      "metadata": {
        "colab": {
          "base_uri": "https://localhost:8080/"
        },
        "id": "7-PD6IyYR47b",
        "outputId": "79987084-ce67-4b80-b68d-133566a2114b"
      },
      "outputs": [
        {
          "output_type": "stream",
          "name": "stdout",
          "text": [
            "('Washington', '1732-02-22')\n",
            "('Jefferson', '1743-04-13')\n",
            "('Lincoln', '1809-02-12')\n",
            "('Madison', '1751-03-16')\n",
            "('Adams Sr.', '1735-10-30')\n",
            "---\n",
            "1732-02-22\n",
            "1743-04-13\n",
            "1809-02-12\n",
            "1751-03-16\n",
            "1735-10-30\n"
          ]
        }
      ],
      "source": [
        "# iterating over items; each item is a tuple\n",
        "for item in birthdays.items():\n",
        "    print(item)\n",
        "print(\"---\")\n",
        "# iterating over values()\n",
        "for v in birthdays.values():\n",
        "    print(v)"
      ]
    },
    {
      "cell_type": "markdown",
      "metadata": {
        "id": "zbQtKafVR47e"
      },
      "source": [
        "You may have noticed that the order is the same each time. As of Python 3.6, each iterator will always follow the order in which the keys were inserted into the dictionary."
      ]
    },
    {
      "cell_type": "markdown",
      "metadata": {
        "id": "0Q-CkAkSR47e"
      },
      "source": [
        "### **Pulse Check ...**\n",
        "**Use the [`dict()` function](https://docs.python.org/3/library/stdtypes.html#dict) to create a new dictionary called `presidents` that swaps the keys and values of the `birthdays` dictionary.** Each key should be a birthdate and each value should be the associated president's last name."
      ]
    },
    {
      "cell_type": "code",
      "execution_count": null,
      "metadata": {
        "id": "xPXjPwUuR47f"
      },
      "outputs": [],
      "source": [
        "# YOUR CODE HERE"
      ]
    },
    {
      "cell_type": "code",
      "execution_count": null,
      "metadata": {
        "jupyter": {
          "source_hidden": true
        },
        "tags": [],
        "colab": {
          "base_uri": "https://localhost:8080/"
        },
        "id": "DIDMiUX_jKSQ",
        "outputId": "c7b7fae2-c372-4e46-ad65-1332a95b2f5a"
      },
      "outputs": [
        {
          "output_type": "execute_result",
          "data": {
            "text/plain": [
              "{'1732-02-22': 'Washington',\n",
              " '1743-04-13': 'Jefferson',\n",
              " '1809-02-12': 'Lincoln',\n",
              " '1751-03-16': 'Madison',\n",
              " '1735-10-30': 'Adams Sr.'}"
            ]
          },
          "metadata": {},
          "execution_count": 13
        }
      ],
      "source": [
        "#@title A two-line solution\n",
        "\n",
        "# Swap each key and value with a list comprehension of pairs\n",
        "items = [ [b[1], b[0]] for b in birthdays.items() ]\n",
        "\n",
        "presidents = dict([ [b[0],b[1]] for b in items ])\n",
        "presidents"
      ]
    },
    {
      "cell_type": "code",
      "execution_count": null,
      "metadata": {
        "jupyter": {
          "source_hidden": true
        },
        "tags": [],
        "colab": {
          "base_uri": "https://localhost:8080/"
        },
        "id": "EkWTrb28jKSQ",
        "outputId": "1d495cf8-e581-45e3-a15a-7109a5ee5810"
      },
      "outputs": [
        {
          "output_type": "execute_result",
          "data": {
            "text/plain": [
              "{'1732-02-22': 'Washington',\n",
              " '1743-04-13': 'Jefferson',\n",
              " '1809-02-12': 'Lincoln',\n",
              " '1751-03-16': 'Madison',\n",
              " '1735-10-30': 'Adams Sr.'}"
            ]
          },
          "metadata": {},
          "execution_count": 14
        }
      ],
      "source": [
        "#@title A more compact 1-line solution\n",
        "\n",
        "# All on one line\n",
        "presidents = dict([ [b[1],b[0]] for b in birthdays.items() ])\n",
        "presidents"
      ]
    },
    {
      "cell_type": "markdown",
      "metadata": {
        "id": "CXn2dgUCR47i"
      },
      "source": [
        "### **Producing Dictionaries from Existing Data**\n",
        "In the examples so far, all of our dictionaries have been created as literals with `{}` or through the `dict()` function. However, dictionaries can be created in lots of curious ways. Just about any iterative process that generates paired sequences of keys and values can be used to create and populate a dictionary."
      ]
    },
    {
      "cell_type": "code",
      "execution_count": null,
      "metadata": {
        "id": "TMUiGOY1R47j",
        "outputId": "c5c3eee3-edfd-44b0-ae3e-64532deb2098",
        "colab": {
          "base_uri": "https://localhost:8080/"
        }
      },
      "outputs": [
        {
          "output_type": "execute_result",
          "data": {
            "text/plain": [
              "{'Washington': '1732-02-22', 'Jefferson': '1743-04-13'}"
            ]
          },
          "metadata": {},
          "execution_count": 15
        }
      ],
      "source": [
        "d_keys =   [\"Washington\",\"Jefferson\"]\n",
        "d_values = ['1732-02-22','1743-04-13']\n",
        "\n",
        "d = {}        # an empty dictionary\n",
        "for i in range(len(d_keys)):\n",
        "    d[d_keys[i]] = d_values[i]\n",
        "d"
      ]
    },
    {
      "cell_type": "markdown",
      "metadata": {
        "id": "Ta727QQnR47l"
      },
      "source": [
        "While straightforward, this is not the most efficient way to generate a dictionary. There are actually two different one line equivalents that are both less code and more efficient. Both are explained below."
      ]
    },
    {
      "cell_type": "markdown",
      "metadata": {
        "id": "e0HOcp1eR47l"
      },
      "source": [
        "### **`dict` Comprehensions**\n",
        "A dictionary comprehension is a lot like a list comprehension, which we covered in Lesson 8. The syntax is like this:\n",
        "```python\n",
        "{ key : value for item in items }\n",
        "```\n",
        "The key and/or value will vary from item to item."
      ]
    },
    {
      "cell_type": "code",
      "execution_count": null,
      "metadata": {
        "id": "IeOXvNA_R47m",
        "outputId": "9749fd60-96d6-4282-d3c5-5ea967e21461",
        "colab": {
          "base_uri": "https://localhost:8080/"
        }
      },
      "outputs": [
        {
          "output_type": "execute_result",
          "data": {
            "text/plain": [
              "{'Washington': '1732-02-22', 'Jefferson': '1743-04-13'}"
            ]
          },
          "metadata": {},
          "execution_count": 16
        }
      ],
      "source": [
        "# reuses the d_keys and d_values from before\n",
        "\n",
        "{ d_keys[i] : d_values[i] for i in range(len(d_keys)) }"
      ]
    },
    {
      "cell_type": "markdown",
      "metadata": {
        "id": "tNlruS72R47o"
      },
      "source": [
        "There are other allowed forms (e.g., the pairs can be specified as tuples) but this is the most commonly used one."
      ]
    },
    {
      "cell_type": "markdown",
      "metadata": {
        "id": "ADTFHPLjR47o"
      },
      "source": [
        "### **That One Weird Zip Dict Trick (Say that fast 3 times)**\n",
        "The `zip()` function converts several sequences of the same length into an iterator of tuples (immutable lists, covered in Lesson 10), where the each tuple is composed of corresponding items."
      ]
    },
    {
      "cell_type": "code",
      "execution_count": null,
      "metadata": {
        "id": "lG2xzozWR47p",
        "outputId": "d5a65910-c1f9-4f8c-c714-01219f471d7b",
        "colab": {
          "base_uri": "https://localhost:8080/"
        }
      },
      "outputs": [
        {
          "output_type": "execute_result",
          "data": {
            "text/plain": [
              "[('1732-02-22', 'Washington'),\n",
              " ('1743-04-13', 'Jefferson'),\n",
              " ('1809-02-12', 'Lincoln')]"
            ]
          },
          "metadata": {},
          "execution_count": 17
        }
      ],
      "source": [
        "bdays = ['1732-02-22','1743-04-13','1809-02-12']\n",
        "presidents = ['Washington','Jefferson','Lincoln']\n",
        "\n",
        "z = zip(bdays,presidents)  # z is an iterator\n",
        "list(z)"
      ]
    },
    {
      "cell_type": "markdown",
      "metadata": {
        "id": "3cZkcucER47s"
      },
      "source": [
        "This can be very useful for generating dictionaries. Let one of the sequences be a list of keys and the other a list of values. When used with the `dict()` constructor we now have a quick and efficient way to zip the keys and values together into a single dict."
      ]
    },
    {
      "cell_type": "code",
      "execution_count": null,
      "metadata": {
        "id": "9183ztSfR47s",
        "outputId": "4ad8747e-2934-48f0-b4bb-5844ff4ad408",
        "colab": {
          "base_uri": "https://localhost:8080/"
        }
      },
      "outputs": [
        {
          "output_type": "execute_result",
          "data": {
            "text/plain": [
              "{'1732-02-22': 'Washington',\n",
              " '1743-04-13': 'Jefferson',\n",
              " '1809-02-12': 'Lincoln'}"
            ]
          },
          "metadata": {},
          "execution_count": 18
        }
      ],
      "source": [
        "# bdays is the keys list\n",
        "# presidents is the values list\n",
        "dict(zip(bdays,presidents))  # Voila! a one line dict maker"
      ]
    },
    {
      "cell_type": "markdown",
      "metadata": {
        "id": "EutsdZX_Q-dS"
      },
      "source": [
        "---\n",
        "## **Before you go ... Save your notebook to be sure it is up to date.**"
      ]
    },
    {
      "cell_type": "markdown",
      "metadata": {
        "id": "PEvWMbpQqM58"
      },
      "source": [
        "---\n",
        "> ## Every Tee Shirt Has a Story\n",
        "> ABOUT THE SLASHDOT EFFECT     \n",
        "> I discovered Slashdot my first semester at Fairfield in 1997. I was trying to figure out how to explain geek culture to my undergrad business students. \"You mean you actually call yourselves geeks? ...\" Why yes we did, and there was even this new website called Slashdot that billed itself as \"News for Nerds\" that was catching on with programmers around the world. Even the name was total geek, a play on how web newbies would read URLs aloud. The full URL was `http://slashot.org`. Try saying that out loud (in English) including punctuation, a couple times. It's quite the tongue twister.  \n",
        ">\n",
        "> In keeping with its motto, it was a sort of curated blog with open discussion (without a log in required) that linked to the freshest nerd content from around the web. Within a few months of its founding, it had a continuous, 24x7 readership in the millions, all very geeky and loyal. This was at a time when getting a few thousand people to visit a major media site was a big deal.\n",
        ">\n",
        "> Slashdot became famous with the non-geek crowd when the blog postings began linking to not-so-nerdy newspapers, magazines, political candidates, and other media providers that were not prepared for **2 million** geeks clicking the link at _exactly_ the same time. Servers would fry and then seize up for good, leaving people wondering what the heck just happened and asking about backups. Such was the [Slashdot Effect](https://en.wikipedia.org/wiki/Slashdot_effect).  \n",
        ">\n",
        "> I picked up this tee at a Linux World show circa 2006. By then Slashdot had faded a bit, though was still popular in the right circles. The site is still around, though with a much, much smaller readership. It lost a lot of the original geek readership when magazine publisher Condé Nast bought it around the time I picked up the tee shirt.   \n",
        ">\n",
        "> ![L9 Tee Front](https://github.com/christopherhuntley/data5405/blob/main/Photos/L09_TeeFront.jpeg?raw=true)\n",
        "\n",
        "## Copyright &copy; 2020 Christopher Huntley. All rights reserved."
      ]
    },
    {
      "cell_type": "code",
      "execution_count": null,
      "metadata": {
        "id": "1c87vIhpjKSU"
      },
      "outputs": [],
      "source": []
    }
  ],
  "metadata": {
    "colab": {
      "provenance": [],
      "include_colab_link": true
    },
    "kernelspec": {
      "display_name": "Python 3 (ipykernel)",
      "language": "python",
      "name": "python3"
    },
    "language_info": {
      "codemirror_mode": {
        "name": "ipython",
        "version": 3
      },
      "file_extension": ".py",
      "mimetype": "text/x-python",
      "name": "python",
      "nbconvert_exporter": "python",
      "pygments_lexer": "ipython3",
      "version": "3.8.15"
    }
  },
  "nbformat": 4,
  "nbformat_minor": 0
}