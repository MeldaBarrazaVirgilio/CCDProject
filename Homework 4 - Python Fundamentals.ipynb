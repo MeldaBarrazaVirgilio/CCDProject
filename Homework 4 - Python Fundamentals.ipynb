{
  "cells": [
    {
      "cell_type": "markdown",
      "metadata": {
        "id": "view-in-github",
        "colab_type": "text"
      },
      "source": [
        "<a href=\"https://colab.research.google.com/github/MeldaBarrazaVirgilio/CCDProject/blob/main/Homework%204%20-%20Python%20Fundamentals.ipynb\" target=\"_parent\"><img src=\"https://colab.research.google.com/assets/colab-badge.svg\" alt=\"Open In Colab\"/></a>"
      ]
    },
    {
      "cell_type": "markdown",
      "metadata": {
        "id": "kUYXaKGzwRJp"
      },
      "source": [
        "<img src=\"https://github.com/christopherhuntley/data5405/blob/main/img/Dolan.png?raw=true\" width=\"180px\" align=\"right\">\n",
        "\n",
        "# **Homework Exercises, Week 4**\n",
        "_Practice Exercises for Lessons 8 & 9._\n",
        "\n",
        "**Solutions are given below each problem (except the last). Put in time doing these on your own before peeking at the solutions. That's why we call this home-_work_; you only get out what you put into it.**"
      ]
    },
    {
      "cell_type": "markdown",
      "metadata": {
        "id": "VtARqFXXF50A"
      },
      "source": [
        "## Lesson 8 Exercises\n",
        "### L8.E1\n",
        "**Write a code snippet that applies your `waist2hip_ratio()` function to each (Waist, Hip, Gender) triplet in the following list of lists:**     \n",
        "```\n",
        "[[28,40,'F'],[23, 35, 'F'],[30,36,'F'],[30,37,'M'],[33,36,'M']]\n",
        "```\n",
        "\n",
        "Your results should look like this:\n",
        "```\n",
        "For a F with waist 28 and hip 40 the w2h ratio is 0.7 with shape Pear.\n",
        "For a F with waist 23 and hip 35 the w2h ratio is 0.66 with shape Pear.\n",
        "For a F with waist 30 and hip 36 the w2h ratio is 0.83 with shape Apple.\n",
        "For a M with waist 30 and hip 37 the w2h ratio is 0.81 with shape Pear.\n",
        "For a M with waist 33 and hip 36 the w2h ratio is 0.92 with shape Apple.\n",
        "```"
      ]
    },
    {
      "cell_type": "code",
      "execution_count": null,
      "metadata": {
        "id": "cclnqXveF50B",
        "colab": {
          "base_uri": "https://localhost:8080/"
        },
        "outputId": "03b453da-a7cc-49b5-bd70-3c9440d34093"
      },
      "outputs": [
        {
          "output_type": "stream",
          "name": "stdout",
          "text": [
            "For a F with waist 28 and hip 40, the w2h ratio is 0.7 with shape Pear.\n",
            "For a F with waist 23 and hip 35, the w2h ratio is 0.66 with shape Pear.\n",
            "For a F with waist 30 and hip 36, the w2h ratio is 0.83 with shape Apple.\n",
            "For a M with waist 30 and hip 37, the w2h ratio is 0.81 with shape Pear.\n",
            "For a M with waist 33 and hip 36, the w2h ratio is 0.92 with shape Apple.\n"
          ]
        }
      ],
      "source": [
        "# YOUR L8.E1 CODE HERE\n",
        "def w2h_ratio(waist_inches, hip_inches, gender):    # Defining functions: waist_inches, hip_inches, gender\n",
        "    try:                                            # Convert waist_inches and hip_inches to floats\n",
        "        waist = float(waist_inches)\n",
        "        hip = float(hip_inches)\n",
        "    except ValueError:                              # Identifying the ValueError\n",
        "        return \"w2h_ratio: Invalid measurement(s)\"\n",
        "    if waist <= 0 or hip <= 0:                      # Check if waist or hip measurements are invalid\n",
        "        return \"w2h_ratio: Invalid measurement(s)\"\n",
        "    if gender.upper() not in [\"M\", \"F\"]:            # Finding if gender is not male or female\n",
        "        return \"w2h_ratio: Unknown gender\"\n",
        "    waist2hip_ratio = round(waist / hip, 2)         # calculating waist to hip measures which = waist / hip\n",
        "    # determining shape with conditions for body shape\n",
        "    shape = (\n",
        "        \"Pear\" if gender.upper() == \"M\" and waist2hip_ratio < 0.9 else\n",
        "        \"Apple\" if gender.upper() == \"M\" and waist2hip_ratio >= 0.9 else\n",
        "        \"Pear\" if gender.upper() == \"F\" and waist2hip_ratio < 0.8 else\n",
        "        \"Apple\" if gender.upper() == \"F\" and waist2hip_ratio >= 0.8 else\n",
        "        \"Unknown\"\n",
        "    )\n",
        "    # return the result for waist to hip ratio and shape\n",
        "    ratio_text = f\"For a {gender.upper()} with waist {round(waist)} and hip {round(hip)}, the w2h ratio is {waist2hip_ratio} with shape {shape}.\"\n",
        "    return ratio_text\n",
        "\n",
        "# List of (Waist, Hip, Gender) info\n",
        "data = [[28, 40, 'F'],[23, 35, 'F'],[30, 36, 'F'],[30, 37, 'M'],[33, 36, 'M']]\n",
        "\n",
        "# Using the 'for' function to each info-list\n",
        "for info in data:\n",
        "    result = w2h_ratio(info[0], info[1], info[2])\n",
        "    print(result)"
      ]
    },
    {
      "cell_type": "code",
      "source": [
        "#@title An L8.E1 Solution\n",
        "\n",
        "def waist2hip_ratio(waist_inches, hip_inches, gender):\n",
        "    try:\n",
        "        waist = float(waist_inches)\n",
        "        hip = float(hip_inches)\n",
        "    except:\n",
        "        return \"w2h_ratio: Invalid measurement(s)\"\n",
        "\n",
        "    if waist <= 0 or hip <= 0:\n",
        "        return \"w2h_ratio: Invalid measurement(s)\"\n",
        "\n",
        "    if gender not in (\"F\",\"M\"):\n",
        "        return \"w2h_ratio: Unknown gender\"\n",
        "\n",
        "    ratio = round(waist / hip,2)\n",
        "    shape = \"Apple\" if (ratio > .8 and gender == \"F\") or (ratio > .9 and gender == \"M\") else \"Pear\"\n",
        "    ratio_text = \"For a %s with waist %g and hip %g the w2h ratio is %g with shape %s.\" % (gender,waist,hip,ratio,shape)\n",
        "\n",
        "    return ratio_text\n",
        "\n",
        "measurements = [[28,40,'F'],[23, 35, 'F'],[30,36,'F'],[30,37,'M'],[33,36,'M']]\n",
        "outputs = [\n",
        "    'For a F with waist 28 and hip 40 the w2h ratio is 0.7 with shape Pear.',\n",
        "    'For a F with waist 23 and hip 35 the w2h ratio is 0.66 with shape Pear.',\n",
        "    'For a F with waist 30 and hip 36 the w2h ratio is 0.83 with shape Apple.',\n",
        "    'For a M with waist 30 and hip 37 the w2h ratio is 0.81 with shape Pear.',\n",
        "    'For a M with waist 33 and hip 36 the w2h ratio is 0.92 with shape Apple.'\n",
        "]\n",
        "\n",
        "for i,m in enumerate(measurements):\n",
        "    print(waist2hip_ratio(m[0],m[1],m[2]))\n",
        "    assert waist2hip_ratio(m[0],m[1],m[2]) == outputs[i]"
      ],
      "metadata": {
        "colab": {
          "base_uri": "https://localhost:8080/"
        },
        "id": "6egZAfYwFMv4",
        "outputId": "4435fa70-2e6f-4270-b980-8ead22734074",
        "cellView": "form"
      },
      "execution_count": null,
      "outputs": [
        {
          "output_type": "stream",
          "name": "stdout",
          "text": [
            "For a F with waist 28 and hip 40 the w2h ratio is 0.7 with shape Pear.\n",
            "For a F with waist 23 and hip 35 the w2h ratio is 0.66 with shape Pear.\n",
            "For a F with waist 30 and hip 36 the w2h ratio is 0.83 with shape Apple.\n",
            "For a M with waist 30 and hip 37 the w2h ratio is 0.81 with shape Pear.\n",
            "For a M with waist 33 and hip 36 the w2h ratio is 0.92 with shape Apple.\n"
          ]
        }
      ]
    },
    {
      "cell_type": "markdown",
      "source": [
        "### L8.E2\n",
        "\n",
        "Write a function called `inside_out` that works as follows:\n",
        "\n",
        "- It takes as input a list with a nested inner list.\n",
        "- Call the original list `list_outer` and the nested one `list_inner`.\n",
        "- Remove `list_inner` from `list_outer`, remembering the `position` of `list_inner` within `list_outer`.\n",
        "- Insert `list_outer` (as a nested list) into the `list_inner` in the same `position` as `list_inner` was inside `list_outer`.\n",
        "- If `position` >= `len(list_inner)` then append `list_outer` (as a nested list) to the end of `list_inner`.\n",
        "- Return `list_inner` after insertion.\n",
        "- Use assertions to test your code.\n",
        "\n",
        "For example, `inside_out([1,2,['a','b','c','d'],3, 4])` returns `['a','b',[1,2,3,4],'c','d']`.\n",
        "\n"
      ],
      "metadata": {
        "id": "-DwKkaRbG4b2"
      }
    },
    {
      "cell_type": "code",
      "source": [
        "def inside_out(list_outer):\n",
        "    list_inner = None                               # Initialize list_inner to None and position to -1\n",
        "    position = -1\n",
        "\n",
        "    for index, item in enumerate(list_outer):       # Iterate over list_outer to find the first nested list and its position\n",
        "        if isinstance(item, list):                  # Check if the item is a list\n",
        "            list_inner = item                       # Assign the nested list to list_inner\n",
        "            position = index                        # Remember the position of the nested list\n",
        "            break                                   # Exit the loop once the nested list is found\n",
        "\n",
        "    if list_inner is None:                          # If no nested list is found, return the original list_outer\n",
        "        return list_outer\n",
        "\n",
        "    list_outer.pop(position)                        # Remove list_inner from list_outer using the position found\n",
        "    list_inner.append(list_outer)                   # Append list_outer to the end of list_inner\n",
        "    return list_inner                               # Return the modified list_inner\n",
        "\n",
        "# Assertion testing\n",
        "assert inside_out([1, 2, [3], 4, 5]) == [3, [1, 2, 4, 5]]\n",
        "assert inside_out([['a', 'b'], 'c', 'd']) == ['a', 'b', ['c', 'd']]\n",
        "\n",
        "inside_out([1, 2, ['a', 'b', 'c', 'd'], 3, 4])"
      ],
      "metadata": {
        "id": "ffeChbLAG3ym",
        "colab": {
          "base_uri": "https://localhost:8080/"
        },
        "outputId": "d5d9f4a1-493b-4283-8855-1869f4a498e4"
      },
      "execution_count": null,
      "outputs": [
        {
          "output_type": "execute_result",
          "data": {
            "text/plain": [
              "['a', 'b', 'c', 'd', [1, 2, 3, 4]]"
            ]
          },
          "metadata": {},
          "execution_count": 30
        }
      ]
    },
    {
      "cell_type": "code",
      "source": [
        "# Define the inside_out function which takes a list as an input\n",
        "def inside_out(lst):\n",
        "    list_outer = lst                                      # Assign the input list to list_outer\n",
        "\n",
        "    # Iterate over the indices of list_outer\n",
        "    for i in range(len(list_outer)):\n",
        "        if type(list_outer[i]) is list:                   # Check if the current item is a list\n",
        "            list_inner = list_outer[i]                    # If it is a list, assign it to list_inner\n",
        "            position = i                                  # Remember the position of the nested list\n",
        "\n",
        "    # Remove list_inner from list_outer using the remembered position\n",
        "    del list_outer[position]\n",
        "\n",
        "    # Check if the position is beyond the end of list_inner\n",
        "    if position >= len(list_inner):\n",
        "        list_inner += [list_outer]                        # If it is, append list_outer to list_inner\n",
        "    else:                                                 # Otherwise,\n",
        "        list_inner[position:position] = [list_outer]      # insert list_outer into list_inner at the remembered position\n",
        "    return list_inner                                     # Return the modified list_inner\n",
        "\n",
        "# Assertion testing to validate the function's correctness\n",
        "assert inside_out([1,2,['a','b','c','d'],3, 4]) == ['a','b',[1,2,3,4],'c','d']\n",
        "assert inside_out([1,2, 3, 4, ['a','b','c']]) == ['a', 'b', 'c', [1, 2, 3, 4]]"
      ],
      "metadata": {
        "id": "5S5pES11EqeE"
      },
      "execution_count": 1,
      "outputs": []
    },
    {
      "cell_type": "markdown",
      "metadata": {
        "id": "ZgrbvjoOF50C"
      },
      "source": [
        "## Lesson 9 Exercises\n",
        "### L9.E1\n",
        "**Use your `waist2hip_ratio()` function to process each of the dictionaries listed below.**\n",
        "```python\n",
        "[{'waist': 28, 'hip': 40, 'gender': 'F'},\n",
        " {'waist': 23, 'hip': 35, 'gender': 'F'},\n",
        " {'waist': 30, 'hip': 36, 'gender': 'F'},\n",
        " {'waist': 30, 'hip': 37, 'gender': 'M'},\n",
        " {'waist': 33, 'hip': 36, 'gender': 'M'}]\n",
        "```\n",
        "\n",
        "Your results should look like this:\n",
        "```\n",
        "For a F with waist 28 and hip 40 the w2h ratio is 0.7 with shape Pear.\n",
        "For a F with waist 23 and hip 35 the w2h ratio is 0.66 with shape Pear.\n",
        "For a F with waist 30 and hip 36 the w2h ratio is 0.83 with shape Apple.\n",
        "For a M with waist 30 and hip 37 the w2h ratio is 0.81 with shape Pear.\n",
        "For a M with waist 33 and hip 36 the w2h ratio is 0.92 with shape Apple.\n",
        "```"
      ]
    },
    {
      "cell_type": "code",
      "execution_count": null,
      "metadata": {
        "id": "AYallN5LF50C",
        "colab": {
          "base_uri": "https://localhost:8080/"
        },
        "outputId": "6aaa003a-ad95-4383-a85f-eb6bd530d791"
      },
      "outputs": [
        {
          "output_type": "stream",
          "name": "stdout",
          "text": [
            "For a F with waist 28 and hip 40, the w2h ratio is 0.7 with shape Pear.\n",
            "For a F with waist 23 and hip 35, the w2h ratio is 0.66 with shape Pear.\n",
            "For a F with waist 30 and hip 36, the w2h ratio is 0.83 with shape Apple.\n",
            "For a M with waist 30 and hip 37, the w2h ratio is 0.81 with shape Pear.\n",
            "For a M with waist 33 and hip 36, the w2h ratio is 0.92 with shape Apple.\n"
          ]
        }
      ],
      "source": [
        "# YOUR L9.E1 CODE HERE\n",
        "def w2h_ratio(waist_inches, hip_inches, gender):    # Defining functions: waist_inches, hip_inches, gender\n",
        "    try:                                            # Convert waist_inches and hip_inches to floats\n",
        "        waist = float(waist_inches)\n",
        "        hip = float(hip_inches)\n",
        "    except ValueError:                              # Identifying the ValueError\n",
        "        return \"w2h_ratio: Invalid measurement(s)\"\n",
        "    if waist <= 0 or hip <= 0:                      # Check if waist or hip measurements are invalid\n",
        "        return \"w2h_ratio: Invalid measurement(s)\"\n",
        "    if gender.upper() not in [\"M\", \"F\"]:            # Finding if gender is not male or female\n",
        "        return \"w2h_ratio: Unknown gender\"\n",
        "    waist2hip_ratio = round(waist / hip, 2)         # calculating waist to hip measures which = waist / hip\n",
        "    # determining shape with conditions for body shape\n",
        "    shape = (\n",
        "        \"Pear\" if gender.upper() == \"M\" and waist2hip_ratio < 0.9 else\n",
        "        \"Apple\" if gender.upper() == \"M\" and waist2hip_ratio >= 0.9 else\n",
        "        \"Pear\" if gender.upper() == \"F\" and waist2hip_ratio < 0.8 else\n",
        "        \"Apple\" if gender.upper() == \"F\" and waist2hip_ratio >= 0.8 else\n",
        "        \"Unknown\"\n",
        "    )\n",
        "    # return the result for waist to hip ratio and shape\n",
        "    ratio_text = f\"For a {gender.upper()} with waist {round(waist)} and hip {round(hip)}, the w2h ratio is {waist2hip_ratio} with shape {shape}.\"\n",
        "    return ratio_text\n",
        "\n",
        "# List of dictionaries\n",
        "data = [\n",
        "    {'waist': 28, 'hip': 40, 'gender': 'F'},\n",
        "    {'waist': 23, 'hip': 35, 'gender': 'F'},\n",
        "    {'waist': 30, 'hip': 36, 'gender': 'F'},\n",
        "    {'waist': 30, 'hip': 37, 'gender': 'M'},\n",
        "    {'waist': 33, 'hip': 36, 'gender': 'M'}\n",
        "]\n",
        "\n",
        "# Processing each dictionary using the w2h_ratio() function\n",
        "for person in data:\n",
        "    result = w2h_ratio(person['waist'], person['hip'], person['gender'])\n",
        "    print(result)"
      ]
    },
    {
      "cell_type": "code",
      "source": [
        "#@title An L9.E1 Solution\n",
        "\n",
        "def waist2hip_ratio(waist_inches, hip_inches, gender):\n",
        "    try:\n",
        "        waist = float(waist_inches)\n",
        "        hip = float(hip_inches)\n",
        "    except:\n",
        "        return \"w2h_ratio: Invalid measurement(s)\"\n",
        "\n",
        "    if waist <= 0 or hip <= 0:\n",
        "        return \"w2h_ratio: Invalid measurement(s)\"\n",
        "\n",
        "    if gender not in (\"F\",\"M\"):\n",
        "        return \"w2h_ratio: Unknown gender\"\n",
        "\n",
        "    ratio = round(waist / hip,2)\n",
        "    shape = \"Apple\" if (ratio > .8 and gender == \"F\") or (ratio > .9 and gender == \"M\") else \"Pear\"\n",
        "    ratio_text = \"For a %s with waist %g and hip %g the w2h ratio is %g with shape %s.\" % (gender,waist,hip,ratio,shape)\n",
        "\n",
        "    return ratio_text\n",
        "\n",
        "measurements = [\n",
        "    {'waist': 28, 'hip': 40, 'gender': 'F'},\n",
        "    {'waist': 23, 'hip': 35, 'gender': 'F'},\n",
        "    {'waist': 30, 'hip': 36, 'gender': 'F'},\n",
        "    {'waist': 30, 'hip': 37, 'gender': 'M'},\n",
        "    {'waist': 33, 'hip': 36, 'gender': 'M'}]\n",
        "\n",
        "for m in measurements:\n",
        "    print(waist2hip_ratio(m['waist'],m['hip'],m['gender']))"
      ],
      "metadata": {
        "colab": {
          "base_uri": "https://localhost:8080/"
        },
        "cellView": "form",
        "id": "lokRK37VJ4N5",
        "outputId": "75f41759-cb32-42ac-a047-2b2480f859ac"
      },
      "execution_count": null,
      "outputs": [
        {
          "output_type": "stream",
          "name": "stdout",
          "text": [
            "For a F with waist 28 and hip 40 the w2h ratio is 0.7 with shape Pear.\n",
            "For a F with waist 23 and hip 35 the w2h ratio is 0.66 with shape Pear.\n",
            "For a F with waist 30 and hip 36 the w2h ratio is 0.83 with shape Apple.\n",
            "For a M with waist 30 and hip 37 the w2h ratio is 0.81 with shape Pear.\n",
            "For a M with waist 33 and hip 36 the w2h ratio is 0.92 with shape Apple.\n"
          ]
        }
      ]
    },
    {
      "cell_type": "markdown",
      "source": [
        "**Optional Challenge:** Use assertions to test each _output_:_arguments_ pair in the dictionary below.\n",
        "\n",
        "```python\n",
        "{\n",
        "  'For a F with waist 28 and hip 40 the w2h ratio is 0.7 with shape Pear.':{'waist': 28, 'hip': 40, 'gender': 'F'},\n",
        "  'For a F with waist 23 and hip 35 the w2h ratio is 0.66 with shape Pear.':{'waist': 23, 'hip': 35, 'gender': 'F'},\n",
        "  'For a F with waist 30 and hip 36 the w2h ratio is 0.83 with shape Apple.':{'waist': 30, 'hip': 36, 'gender': 'F'},\n",
        "  'For a M with waist 30 and hip 37 the w2h ratio is 0.81 with shape Pear.':{'waist': 30, 'hip': 37, 'gender': 'M'},\n",
        "  'For a M with waist 33 and hip 36 the w2h ratio is 0.92 with shape Apple.':{'waist': 33, 'hip': 36, 'gender': 'M'}\n",
        "}\n",
        "```"
      ],
      "metadata": {
        "id": "9po9W8VhGtsH"
      }
    },
    {
      "cell_type": "code",
      "source": [
        "# YOUR L9.E1 CHALLENGE CODE HERE\n",
        "def w2h_ratio(waist_inches, hip_inches, gender):    # Defining functions: waist_inches, hip_inches, gender\n",
        "    try:                                            # Convert waist_inches and hip_inches to floats\n",
        "        waist = float(waist_inches)\n",
        "        hip = float(hip_inches)\n",
        "    except ValueError:                              # Identifying the ValueError\n",
        "        return \"w2h_ratio: Invalid measurement(s)\"\n",
        "    if waist <= 0 or hip <= 0:                      # Check if waist or hip measurements are invalid\n",
        "        return \"w2h_ratio: Invalid measurement(s)\"\n",
        "    if gender.upper() not in [\"M\", \"F\"]:            # Finding if gender is not male or female\n",
        "        return \"w2h_ratio: Unknown gender\"\n",
        "    waist2hip_ratio = round(waist / hip, 2)         # calculating waist to hip measures which = waist / hip\n",
        "    # determining shape with conditions for body shape\n",
        "    shape = (\n",
        "        \"Pear\" if gender.upper() == \"M\" and waist2hip_ratio < 0.9 else\n",
        "        \"Apple\" if gender.upper() == \"M\" and waist2hip_ratio >= 0.9 else\n",
        "        \"Pear\" if gender.upper() == \"F\" and waist2hip_ratio < 0.8 else\n",
        "        \"Apple\" if gender.upper() == \"F\" and waist2hip_ratio >= 0.8 else\n",
        "        \"Unknown\"\n",
        "    )\n",
        "    # return the result for waist to hip ratio and shape\n",
        "    ratio_text = f\"For a {gender.upper()} with waist {round(waist)} and hip {round(hip)}, the w2h ratio is {waist2hip_ratio} with shape {shape}.\"\n",
        "    return ratio_text\n",
        "# Dictionary with outputs and arguments\n",
        "output_arg = {\n",
        "    'For a F with waist 28 and hip 40, the w2h ratio is 0.7 with shape Pear.': {'waist': 28, 'hip': 40, 'gender': 'F'},\n",
        "    'For a F with waist 23 and hip 35, the w2h ratio is 0.66 with shape Pear.': {'waist': 23, 'hip': 35, 'gender': 'F'},\n",
        "    'For a F with waist 30 and hip 36, the w2h ratio is 0.83 with shape Apple.': {'waist': 30, 'hip': 36, 'gender': 'F'},\n",
        "    'For a M with waist 30 and hip 37, the w2h ratio is 0.81 with shape Pear.': {'waist': 30, 'hip': 37, 'gender': 'M'},\n",
        "    'For a M with waist 33 and hip 36, the w2h ratio is 0.92 with shape Apple.': {'waist': 33, 'hip': 36, 'gender': 'M'}\n",
        "}\n",
        "\n",
        "# Iterate over each key-value pair in the output_arg dictionary\n",
        "for expected_output, args in output_arg.items():\n",
        "    result = w2h_ratio(args['waist'], args['hip'], args['gender'])                          # Call the w2h_ratio function with the arguments\n",
        "    assert result == expected_output, f\"Expected: {expected_output}, but got: {result}\"     # Check if result matches the expected output\n",
        "    print(w2h_ratio(args['waist'], args['hip'], args['gender']))"
      ],
      "metadata": {
        "id": "OjRkq27RttM1",
        "colab": {
          "base_uri": "https://localhost:8080/"
        },
        "outputId": "621ba04a-0d26-4afa-e2e5-2d92480951c9"
      },
      "execution_count": 3,
      "outputs": [
        {
          "output_type": "stream",
          "name": "stdout",
          "text": [
            "For a F with waist 28 and hip 40, the w2h ratio is 0.7 with shape Pear.\n",
            "For a F with waist 23 and hip 35, the w2h ratio is 0.66 with shape Pear.\n",
            "For a F with waist 30 and hip 36, the w2h ratio is 0.83 with shape Apple.\n",
            "For a M with waist 30 and hip 37, the w2h ratio is 0.81 with shape Pear.\n",
            "For a M with waist 33 and hip 36, the w2h ratio is 0.92 with shape Apple.\n"
          ]
        }
      ]
    },
    {
      "cell_type": "code",
      "source": [
        "#@title An L9.E1 Challenge Solution\n",
        "\n",
        "def waist2hip_ratio(waist_inches, hip_inches, gender):\n",
        "    try:\n",
        "        waist = float(waist_inches)\n",
        "        hip = float(hip_inches)\n",
        "    except:\n",
        "        return \"w2h_ratio: Invalid measurement(s)\"\n",
        "\n",
        "    if waist <= 0 or hip <= 0:\n",
        "        return \"w2h_ratio: Invalid measurement(s)\"\n",
        "\n",
        "    if gender not in (\"F\",\"M\"):\n",
        "        return \"w2h_ratio: Unknown gender\"\n",
        "\n",
        "    ratio = round(waist / hip,2)\n",
        "    shape = \"Apple\" if (ratio > .8 and gender == \"F\") or (ratio > .9 and gender == \"M\") else \"Pear\"\n",
        "    ratio_text = \"For a %s with waist %g and hip %g the w2h ratio is %g with shape %s.\" % (gender,waist,hip,ratio,shape)\n",
        "\n",
        "    return ratio_text\n",
        "\n",
        "tests = {\n",
        "  'For a F with waist 28 and hip 40 the w2h ratio is 0.7 with shape Pear.':{'waist': 28, 'hip': 40, 'gender': 'F'},\n",
        "  'For a F with waist 23 and hip 35 the w2h ratio is 0.66 with shape Pear.':{'waist': 23, 'hip': 35, 'gender': 'F'},\n",
        "  'For a F with waist 30 and hip 36 the w2h ratio is 0.83 with shape Apple.':{'waist': 30, 'hip': 36, 'gender': 'F'},\n",
        "  'For a M with waist 30 and hip 37 the w2h ratio is 0.81 with shape Pear.':{'waist': 30, 'hip': 37, 'gender': 'M'},\n",
        "  'For a M with waist 33 and hip 36 the w2h ratio is 0.92 with shape Apple.':{'waist': 33, 'hip': 36, 'gender': 'M'}\n",
        "}\n",
        "\n",
        "for out,arg in tests.items():\n",
        "    print(waist2hip_ratio(arg['waist'],arg['hip'],arg['gender']))\n",
        "    assert waist2hip_ratio(arg['waist'],arg['hip'],arg['gender']) == out"
      ],
      "metadata": {
        "colab": {
          "base_uri": "https://localhost:8080/"
        },
        "cellView": "form",
        "id": "bXroJ6ab-ZMa",
        "outputId": "cc37f2a7-36c3-4efe-f20c-9ad35befd666"
      },
      "execution_count": null,
      "outputs": [
        {
          "output_type": "stream",
          "name": "stdout",
          "text": [
            "For a F with waist 28 and hip 40 the w2h ratio is 0.7 with shape Pear.\n",
            "For a F with waist 23 and hip 35 the w2h ratio is 0.66 with shape Pear.\n",
            "For a F with waist 30 and hip 36 the w2h ratio is 0.83 with shape Apple.\n",
            "For a M with waist 30 and hip 37 the w2h ratio is 0.81 with shape Pear.\n",
            "For a M with waist 33 and hip 36 the w2h ratio is 0.92 with shape Apple.\n"
          ]
        }
      ]
    },
    {
      "cell_type": "markdown",
      "source": [
        "### L9.E2\n",
        "\n",
        "> *This problem is designed to prepare you for the final project, where you will write code of similar length and complexity.*\n",
        "\n",
        "**Write a function called `roman2int()` that converts a [roman numeral](https://en.wikipedia.org/wiki/Roman_numerals) string to an integer.** For example, `roman2int(\"XXIX\")` should return 29 and `roman2int(\"MCMXCIX\")` should return 1999.\n",
        "\n",
        "**Requirements:**\n",
        "- The function has a single parameter called `roman_numeral` that must be a string containing only the latin capital letters I, V, X, L, C, D, and M.\n",
        "  - If `roman_numeral` is not a string, raise a `TypeError` with a message explaining that `roman_numeral` must be string.\n",
        "  - If `roman_numeral` contains any invalid letters then raise a `ValueError` with a suitable message about roman numerals.\n",
        "- Iterate over the string with a `while` loop with two loop variables and a stopping (i.e., non-continuing) condition:\n",
        "  - `int_value` is an accumulator for the integer value of the roman characters processed so far.\n",
        "  - `remaining` is used to keep track of the romain characters remaining. It is like the `digits` variable we used wth long division.\n",
        "  - The loop terminates when `remaining` is an empty string.\n",
        "  - Don't forget to initialize the variables before entering the loop.\n",
        "- Each pass through, use a slice or string method to compare the head of `remaining` with one of the following patterns (with integer equivalents provided):\n",
        "```python\n",
        "  rules = {\"IV\":4, \"IX\":9,\"XL\":40,\"XC\":90,\"CD\":400,\"CM\":900,\n",
        "          \"I\":1,\"V\":5,\"X\":10,\"L\":50,\"C\":100,\"D\":500,\"M\":1000}\n",
        "```\n",
        "  - If a pattern (rule key) matches then\n",
        "    - Update `int_value` by adding the appropriate integer.\n",
        "    - Update `remaining` by removing the matched pattern from the head of string. Note: you can do with with a slice to the right of the `=`.\n",
        "  - Always check for the two-letter patterns before the one-letter patterns.\n",
        "- A numeral like IIX or XXXD is ill-defined (like a typo).  You may follow the rules as given or raise a `ValueError`; it's totally your choice.\n",
        "- Use assertions to test at least the numerals XXIX and MCMXCIX.\n",
        "- Use function calls in separate cells to test your `TypeError` and `ValueError` logic. Unfortunately, there is no easy way to use assertions to check for raised exceptions.\n",
        "\n"
      ],
      "metadata": {
        "id": "wFusIAg1IzLZ"
      }
    },
    {
      "cell_type": "code",
      "source": [
        "# YOUR L9.E2 CODE HERE\n",
        "def roman2int(roman_numeral):\n",
        "    # Check if the input is a string; if not, raise a TypeError with a message\n",
        "    if not isinstance(roman_numeral, str):\n",
        "        raise TypeError(\"roman_numeral must be a string containing only the Latin capital letters I, V, X, L, C, D, and M.\")\n",
        "\n",
        "    # Define a set of valid Roman numeral characters\n",
        "    valid_roman_chars = {'I', 'V', 'X', 'L', 'C', 'D', 'M'}\n",
        "\n",
        "    # Check if all characters in the input are valid Roman numerals; if not, raise a ValueError with a message\n",
        "    if not all(char in valid_roman_chars for char in roman_numeral):\n",
        "        raise ValueError(\"roman_numeral contains invalid letters. It must contain only the Latin capital letters I, V, X, L, C, D, and M.\")\n",
        "\n",
        "    # Define the rules for Roman numeral values\n",
        "    rules = {\n",
        "        \"IV\": 4, \"IX\": 9, \"XL\": 40, \"XC\": 90, \"CD\": 400, \"CM\": 900,\n",
        "        \"I\": 1, \"V\": 5, \"X\": 10, \"L\": 50, \"C\": 100, \"D\": 500, \"M\": 1000\n",
        "    }\n",
        "\n",
        "    # Initialize the integer value accumulator\n",
        "    int_value = 0\n",
        "    # Initialize the remaining part of the Roman numeral to be processed\n",
        "    remaining = roman_numeral\n",
        "\n",
        "    # Iterate while there are characters left to process in the remaining string\n",
        "    while remaining:\n",
        "        # Check if the first two characters form a valid Roman numeral pattern and process them\n",
        "        if len(remaining) > 1 and remaining[:2] in rules:\n",
        "            int_value += rules[remaining[:2]]\n",
        "            remaining = remaining[2:]\n",
        "        else:\n",
        "            # Otherwise, process the first character\n",
        "            int_value += rules[remaining[0]]\n",
        "            remaining = remaining[1:]\n",
        "\n",
        "    # Return the final accumulated integer value\n",
        "    return int_value\n",
        "\n",
        "# Assertions to test the conversion function\n",
        "assert roman2int(\"XXIX\") == 29, \"Test case XXIX failed\"\n",
        "assert roman2int(\"MCMXCIX\") == 1999, \"Test case MCMXCIX failed\"\n",
        "assert roman2int(\"III\") == 3, \"Test case III failed\"\n",
        "\n",
        "# Testing TypeError with a non-string argument\n",
        "try:\n",
        "    roman2int(123)\n",
        "except TypeError as e:\n",
        "    print(e)\n",
        "\n",
        "# Testing ValueError with a string with invalid Roman numeral characters\n",
        "try:\n",
        "    roman2int(\"XXIY\")\n",
        "except ValueError as e:\n",
        "    print(e)\n",
        "\n",
        "print(roman2int(\"XIX\"))\n",
        "print(roman2int(\"CXCIX\"))\n",
        "print(roman2int(\"MCMXCIX\"))"
      ],
      "metadata": {
        "id": "-vv_C_FKJnvq",
        "colab": {
          "base_uri": "https://localhost:8080/"
        },
        "outputId": "26eaa024-7d28-408c-ba8a-3b677214538b"
      },
      "execution_count": null,
      "outputs": [
        {
          "output_type": "stream",
          "name": "stdout",
          "text": [
            "roman_numeral must be a string containing only the Latin capital letters I, V, X, L, C, D, and M.\n",
            "roman_numeral contains invalid letters. It must contain only the Latin capital letters I, V, X, L, C, D, and M.\n",
            "19\n",
            "199\n",
            "1999\n"
          ]
        }
      ]
    },
    {
      "cell_type": "markdown",
      "source": [
        "#### **Optional Challenges for the Intrepid**\n",
        "1. Repeat using only one-letter patterns:\n",
        "  ```python\n",
        "  one_letter_rules = {\"I\":1,\"V\":5,\"X\":10,\"L\":50,\"C\":100,\"D\":500,\"M\":1000}\n",
        "  ```\n",
        "  You will need to keep track of whether the value of the next  letter in `roman_numeral` is bigger or smaller than the current one. If the next letter is bigger then subtract the value of the current letter from `int_value`; if the next letter is equal to or smaller (or there is no next letter), then add the value to `int_value`.\n",
        "\n",
        "  For example, for IX we subtract 1 before adding 10 to get 9. For XI we add 10 before adding 1 to get 11. Similarly, for III we add 1, then add 1, then add 1 to get 3.   \n",
        "\n",
        "2. Minimize the number of lines of code (statements). We'll all compare to see who has the most concise code.\n",
        "\n",
        "3. Use function calls wrapped in `try ... except` statements to check that your code is raising `TypeError` and `ValueError` exceptions correctly. If the logic is _incorrect_, then [raise](https://docs.python.org/3/tutorial/errors.html#raising-exceptions) an `AssertionError` with a suitable message explaining the bug. Hint: raise the error inside the `try` clause; you'll need to figure out where the specify the error you are expecting on your own. (Alternatively, you you use the [unittest](https://docs.python.org/3/library/unittest.html) module, but that's like actual work.)"
      ],
      "metadata": {
        "id": "4Fzu2RnEPbBi"
      }
    },
    {
      "cell_type": "code",
      "source": [
        "# YOUR L9.E2 CHALLENGE CODE HERE"
      ],
      "metadata": {
        "id": "ZrbF6siIPYxX"
      },
      "execution_count": null,
      "outputs": []
    }
  ],
  "metadata": {
    "colab": {
      "provenance": [],
      "include_colab_link": true
    },
    "kernelspec": {
      "display_name": "Python 3 (ipykernel)",
      "language": "python",
      "name": "python3"
    },
    "language_info": {
      "codemirror_mode": {
        "name": "ipython",
        "version": 3
      },
      "file_extension": ".py",
      "mimetype": "text/x-python",
      "name": "python",
      "nbconvert_exporter": "python",
      "pygments_lexer": "ipython3",
      "version": "3.8.15"
    }
  },
  "nbformat": 4,
  "nbformat_minor": 0
}