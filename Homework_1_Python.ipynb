{
  "cells": [
    {
      "cell_type": "markdown",
      "metadata": {
        "id": "view-in-github",
        "colab_type": "text"
      },
      "source": [
        "<a href=\"https://colab.research.google.com/github/MeldaBarrazaVirgilio/CCDProject/blob/main/Homework_1_Python.ipynb\" target=\"_parent\"><img src=\"https://colab.research.google.com/assets/colab-badge.svg\" alt=\"Open In Colab\"/></a>"
      ]
    },
    {
      "cell_type": "markdown",
      "metadata": {
        "id": "kUYXaKGzwRJp"
      },
      "source": [
        "<img src=\"https://github.com/christopherhuntley/data5405/blob/main/img/Dolan.png?raw=true\" width=\"180px\" align=\"right\">\n",
        "\n",
        "# **Homework Exercises, Week 1**\n",
        "_Practice Exercises for Lesson 2._"
      ]
    },
    {
      "cell_type": "markdown",
      "metadata": {
        "id": "3xj_QNQ1Fuk0"
      },
      "source": [
        "## Lesson 2 Exercises\n",
        "\n",
        "### L2.E1\n",
        "Write a program to calculate a `waist2hip_ratio` given raw input from the user. Use the `variable names` as directed.\n",
        "\n",
        "1. Read up on how [Waist to Hip Ratios are calculated](https://en.wikipedia.org/wiki/Waist%E2%80%93hip_ratio).\n",
        "2. Use [`input()` function calls](https://docs.python.org/3/library/functions.html#input) to ask for waist (`waist_str`) and hip (`hip_str`) measurements.\n",
        "3. Calculate the `waist2hip_ratio` from `waist_str` and `hip_str`. Hints: You will have to do type conversions to make this work.\n",
        "4. Print the ratio, prepended with the text `\"Your waist to hip ratio is \"`.\n",
        "5. Run your code to make sure it works. For `waist_str` equal to 48 and `hip_str` equal to 42, the program should print 'Your waist to hip ratio is 1.1428571428571428'."
      ]
    },
    {
      "cell_type": "code",
      "execution_count": null,
      "metadata": {
        "id": "iMb27w91Fuk0",
        "colab": {
          "base_uri": "https://localhost:8080/"
        },
        "outputId": "a3717abc-0399-4b40-8b50-4b3d68600b26"
      },
      "outputs": [
        {
          "output_type": "stream",
          "name": "stdout",
          "text": [
            "waist48\n",
            "hip42\n",
            "Your waist to hip ratio = 1.1428571428571428\n"
          ]
        }
      ],
      "source": [
        "# Your L2.E1 Code Here\n",
        "\n",
        "# inputing measures for waist and hip\n",
        "waist_str = input(\"waist\")\n",
        "hip_str = input(\"hip\")\n",
        "\n",
        "#calculating waist to hip measure which = waist / hip\n",
        "waist2hip_ratio = float(waist_str) / float(hip_str)\n",
        "\n",
        "# Show/print the result\n",
        "print(\"Your waist to hip ratio =\",waist2hip_ratio)"
      ]
    },
    {
      "cell_type": "code",
      "execution_count": null,
      "metadata": {
        "jupyter": {
          "source_hidden": true
        },
        "tags": [],
        "id": "UONELWs8Fuk1",
        "cellView": "form"
      },
      "outputs": [],
      "source": [
        "#@title Solution\n",
        "\n",
        "# Ask for user input\n",
        "waist_str = input(\"Waist\")  # prompts for waist\n",
        "hip_str = input(\"Hip\")      # prompts for hip\n",
        "\n",
        "# Calculate the ratio\n",
        "waist2hip_ratio = float(waist_str) / float(hip_str)\n",
        "\n",
        "# Output to user\n",
        "print(\"Your waist to hip ratio is\",waist2hip_ratio)"
      ]
    },
    {
      "cell_type": "markdown",
      "metadata": {
        "id": "r7Ni2M21Fuk1"
      },
      "source": [
        "### L2.E2\n",
        "\n",
        "Using these variables only, and no other strings, concatenate as appropriate to make the phrase “Christopher Huntley and Philip Maymin love Python!”\n",
        "- v1 = 'topher'\n",
        "- v2 = 'ip'\n",
        "- v3 = ' '\n",
        "- v4 = 'love Python!'\n",
        "- v5 = 'Chris'\n",
        "- v6 = 'Phil'\n",
        "- v7 = 'Huntley'\n",
        "- v8 = 'Maymin'\n",
        "- v9 = 'and'"
      ]
    },
    {
      "cell_type": "code",
      "execution_count": null,
      "metadata": {
        "id": "EOQB03nHFuk2",
        "colab": {
          "base_uri": "https://localhost:8080/"
        },
        "outputId": "55fb43d1-cffa-4d09-f2f2-9974b83b2da5"
      },
      "outputs": [
        {
          "output_type": "stream",
          "name": "stdout",
          "text": [
            "Christopher Huntley and Philip Maymin love Python!\n"
          ]
        }
      ],
      "source": [
        "# Your L2.E2 Code Here\n",
        "\n",
        "# My list of expressions\n",
        "v1 = str('topher')\n",
        "v2 = str('ip')\n",
        "v3 = str(' ')\n",
        "v4 = str('love Python!')\n",
        "v5 = str('Chris')\n",
        "v6 = str('Phil')\n",
        "v7 = str('Huntley')\n",
        "v8 = str('Maymin')\n",
        "v9 = str('and')\n",
        "\n",
        "# Making the statement with my expressions and operators\n",
        "print(v5 + v1 + v3 + v7 + v3 + v9 + v3 + v6 + v2 + v3 + v8 + v3 + v4)"
      ]
    },
    {
      "cell_type": "code",
      "execution_count": null,
      "metadata": {
        "jupyter": {
          "source_hidden": true
        },
        "tags": [],
        "id": "_OVuwZBFFuk2",
        "cellView": "form"
      },
      "outputs": [],
      "source": [
        "#@title Solution\n",
        "\n",
        "v1 = 'topher'\n",
        "v2 = 'ip'\n",
        "v3 = ' '\n",
        "v4 = 'love Python!'\n",
        "v5 = 'Chris'\n",
        "v6 = 'Phil'\n",
        "v7 = 'Huntley'\n",
        "v8 = 'Maymin'\n",
        "v9 = 'and'\n",
        "\n",
        "v5 + v1 + v3 + v7 + v3 + v9 + v3 + v6 + v2 + v3 + v8 + v3 + v4"
      ]
    },
    {
      "cell_type": "markdown",
      "metadata": {
        "id": "UXsEJrhWFuk2"
      },
      "source": [
        "### L2.E3\n",
        "\n",
        "Write a Python program that does the following:\n",
        "- Declares three variables: one integer, one float, and one string. Assign any values you like to these variables.\n",
        "- Prints out the type of each variable.\n",
        "- Perform a simple arithmetic operation using the integer and float variables (e.g., addition) and store the result in a new variable.\n",
        "- Concatenates the string variable with another string and print the result.\n",
        "- Prints the result of the arithmetic operation from step 3.\n",
        "\n",
        "**Sample Output:**\n",
        "```\n",
        "The type of variable x is: <class 'int'>\n",
        "The type of variable y is: <class 'float'>\n",
        "The type of variable z is: <class 'str'>\n",
        "The result of the arithmetic operation is: 15.5\n",
        "The concatenated string is: Hello, world!\n",
        "```"
      ]
    },
    {
      "cell_type": "code",
      "execution_count": null,
      "metadata": {
        "id": "EXVQbB7aFuk2",
        "colab": {
          "base_uri": "https://localhost:8080/"
        },
        "outputId": "82fe38f2-32ce-439e-9c17-da370244c865"
      },
      "outputs": [
        {
          "output_type": "stream",
          "name": "stdout",
          "text": [
            "Variable x is  <class 'int'>\n",
            "Variable y is  <class 'float'>\n",
            "Variable z is  <class 'str'> \n",
            "\n",
            "Hello, world! I'm back! \n",
            "\n",
            "Operation =  2.0\n"
          ]
        }
      ],
      "source": [
        "# Your L2.E3 code here\n",
        "\n",
        "# My variables\n",
        "x = 5\n",
        "y = 2.5\n",
        "z = \"Hello, world!\"\n",
        "\n",
        "# Print types of the variables\n",
        "print(\"Variable x is \", type(x))\n",
        "print(\"Variable y is \", type(y))\n",
        "print(\"Variable z is \", type(z), \"\\n\")\n",
        "\n",
        "# Arithmetic operation\n",
        "arth_operation = x / y\n",
        "\n",
        "# Concatenate string with another string and print\n",
        "concatenation = z + \" I'm back!\"\n",
        "print(concatenation, \"\\n\")\n",
        "\n",
        "# Print result of arithmetic operation\n",
        "print(\"Operation = \", arth_operation)"
      ]
    },
    {
      "cell_type": "code",
      "execution_count": null,
      "metadata": {
        "jupyter": {
          "source_hidden": true
        },
        "tags": [],
        "id": "Zmi6PYkwFuk2",
        "cellView": "form"
      },
      "outputs": [],
      "source": [
        "#@title Solution\n",
        "\n",
        "# Step 1: Declare variables\n",
        "x = 10        # Integer\n",
        "y = 5.5       # Float\n",
        "z = \"Hello\"   # String\n",
        "\n",
        "# Step 2: Print out the type of each variable\n",
        "print(\"The type of variable x is:\", type(x))\n",
        "print(\"The type of variable y is:\", type(y))\n",
        "print(\"The type of variable z is:\", type(z))\n",
        "\n",
        "# Step 3: Perform arithmetic operation\n",
        "result = x + y\n",
        "\n",
        "# Step 4: Concatenate string variable\n",
        "concatenated_string = z + \", world!\"\n",
        "\n",
        "# Step 5: Print the results\n",
        "print(\"The result of the arithmetic operation is:\", result)\n",
        "print(\"The concatenated string is:\", concatenated_string)"
      ]
    }
  ],
  "metadata": {
    "colab": {
      "provenance": [],
      "include_colab_link": true
    },
    "kernelspec": {
      "display_name": "Python 3 (ipykernel)",
      "language": "python",
      "name": "python3"
    },
    "language_info": {
      "codemirror_mode": {
        "name": "ipython",
        "version": 3
      },
      "file_extension": ".py",
      "mimetype": "text/x-python",
      "name": "python",
      "nbconvert_exporter": "python",
      "pygments_lexer": "ipython3",
      "version": "3.8.15"
    }
  },
  "nbformat": 4,
  "nbformat_minor": 0
}