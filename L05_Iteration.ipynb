{
  "cells": [
    {
      "cell_type": "markdown",
      "metadata": {
        "id": "_V3GzllOQckZ"
      },
      "source": [
        "<img src=\"https://github.com/christopherhuntley/data5405/blob/main/img/Dolan.png?raw=true\" width=\"180px\" align=\"right\">\n",
        "\n",
        "# **Lesson 5: Iteration**\n",
        "_Keeping things DRY with loops_"
      ]
    },
    {
      "cell_type": "markdown",
      "metadata": {
        "id": "2Vz2bUv3Qcka"
      },
      "source": [
        "## **Learning Objectives**\n",
        "\n",
        "### Theory / Be able to explain ...\n",
        "- The elements and flow of iteration processes\n",
        "- Variable updating and in-place update operators\n",
        "- `while` loops and `for` loops\n",
        "- The role of design patterns in software architecture\n",
        "- The Accumulator design pattern\n",
        "\n",
        "### Skills / Know how to  ...\n",
        "- Use variable updating to capture dynamic data\n",
        "- Implement iteration logic with `while` and `for` loops\n",
        "- Break or short-circuit loop logic as needed\n",
        "- Use accumulators to capture cumulative data\n",
        "\n",
        "---"
      ]
    },
    {
      "cell_type": "markdown",
      "metadata": {
        "id": "pe4WjoavQckb"
      },
      "source": [
        "## **If You Can Count, Then You Can Iterate**\n",
        "\n",
        ">\"There are only two hard things in Computer Science: cache invalidation, naming things, and off-by-one errors.\" -- Phil Karlton\n",
        "\n",
        "Counting is one of the first math skills we learn. By the age of 18 months, a child can usually carry out the basic steps of marking off the next item on a list. They might get confused by the sixth or seventh item -- perhaps counting the same item twice -- but **a toddler can usually count up to 5 items.** It's not like the process is that hard:\n",
        "\n",
        "1. Choose an item from the pile.\n",
        "2. Mark off the item by saying the next number in the sequence.\n",
        "3. Place the item into another pile.\n",
        "4. Repeat 1-3 until there are no items left in the original pile.\n",
        "\n",
        "However, it is surprising how hard some novice programmers find it to **iterate** (mark off) items one at time. Given a list (or other sequence) of items to be processed exactly the same way, they will try to use what we call \"copy / paste / edit\" logic, modifying the code a little for the specifics of each item. Wow, what a complete waste of time. Instead, they should do exactly like the babies do:\n",
        "1. Take an item (it) off the list.\n",
        "2. Process it, taking note of any effects.\n",
        "3. If needed again, add it to an out-list of processed items.\n",
        "4. Repeat until the list is exhausted.\n",
        "\n",
        "Besides being more efficient for the programmer, it is also less buggy. The logic in step 2 is always the same, no matter how many times we repeat the loop. Why make things more difficult by doing it a different way each time?\n",
        "\n",
        "> **Heads Up** Step 2 may have *side effects* that affect data. There are two ways that can happen. Either **it alters the data values in place** (variable reassignment) or **it generates new values**, usually to be stored in a list or other collection. We'll see both in the long division example below.\n",
        "\n",
        "**This lesson is about iteration, the last of the four fundamental elements of Structured Programming.** By the end of this lesson you will know the basics of all programming logic. Everything else is somewhat derivative, as Edsger Dijkstra proved so many years ago."
      ]
    },
    {
      "cell_type": "markdown",
      "metadata": {
        "id": "emmXaKYfQckb"
      },
      "source": [
        "---\n",
        "## **More than Just Counting: How about Long Division?**\n",
        "While counting may be the first iterative process we learn as children, it is far from the last. Another is **long division**, which children used to master as a right of passage in primary school, but today is (sadly) not seen as an educational necessity. Instead, children are told to use a calculator. While somewhat practical in an age when everybody has phones in their pockets, children are being cheated out of an important lesson in algorithmic thinking needed for higher forms of math like algebra and calculus. The effects are obvious to those of us who teach quantitative sciences for a living. Many young adults today cannot reliably calculate an average of ten numbers, **even when armed with a calculator to do the arithmetic**. Instead they rely on tools like MS Excel that turn averaging into a feature instead of a process, which over time leads to a lack of intuitive understanding of important analytical concepts like centrality and variability. They see the world as static, with all the processing already done, all the data already processed, when real world data is anything but static.  And it all starts (or, more properly, ends for many people) with long division.\n",
        "\n",
        "Now that we have established its importance, what exactly is long division? Long division is a standard manual method for dividing one number (the **dividend**) by another (the **divisor**). The result is called the **quotient**, which may include a **remainder** if the first number cannot be evenly divided by the second. Like counting, it involves repetition of a fixed set of steps (with examples shown for the first pass; you may also want to try this with pencil and paper):\n",
        "\n",
        "1. Identify the `dividend` and the `divisor`. For our purposes the dividend is treated as a string of digits that we can \"pull down\" (or, as we programmers call it, \"pop off\") one at a time starting from the left hand side. Similarly, we will build up the quotient one digit at a time by comparing the divisor with digits from the dividend.\n",
        "  * Set `dividend` = 1260257, `divisor` = 37, `quotient` = 0, `remainder` = 0.\n",
        "2. Pull down a digit `d` from the dividend and add it to the `remainder`.\n",
        "  * Set `remainder = 10 * 0 + d = 0 + 1 = 1`.\n",
        "3. Calculate a digit `q` by evenly dividing the `remainder` by the `divisor`, ignoring the non-integer fraction left over. (In Python we use the `//` operator for this sort of integer division.)\n",
        "  * Set `q = remainder // divisor = 1 // 37 = 0`; the first digit of the quotient is `0`.\n",
        "4. Calculate the `product` of `q` and the `divisor`.\n",
        "  * Set `product = q * divisor = 0`\n",
        "5. Subtract the `product` from the `remainder` and append the digit `q` to the `quotient`.\n",
        "  * The new `remainder` is (the previous) `remainder` - `product` or `1 - 0 = 1`.\n",
        "  * The new `quotient` is calculated as `quotient * 10 + q = 0 * 10 + 0 = 0`.\n",
        "6. Repeat steps 2-5 until no digits remain to pull down from the `dividend`.   \n",
        "\n",
        "For those of you who like visuals, here is a useful animated GIF showing the rest of the process (after skipping the initial 0s in the quotient):\n",
        "\n",
        "![animated gif](https://upload.wikimedia.org/wikipedia/commons/f/f2/LongDivisionAnimated.gif)\n",
        "\n",
        "By <a href=\"//commons.wikimedia.org/wiki/User:Xanthoxyl\" title=\"User:Xanthoxyl\">Xanthoxyl</a> - <span class=\"int-own-work\" lang=\"en\">Own work</span>, <a href=\"https://creativecommons.org/licenses/by-sa/3.0\" title=\"Creative Commons Attribution-Share Alike 3.0\">CC BY-SA 3.0</a>, <a href=\"https://commons.wikimedia.org/w/index.php?curid=5818667\">Link</a> .\n",
        "\n",
        "That's a pretty complicated process, with at least six different variables to keep track of. Nonetheless a 9 year old can proudly show you if you forget how to do it.\n",
        "\n",
        "We will, _of course_, implement all this in Python. But first, let's consider the computational requirements:\n",
        "- **Pull down the next digit from the `dividend` in step 2.** We can easily do this by treating the dividend as a text string. However, we will consider a more advanced way in Lesson 8.\n",
        "- **Calculate `q` and `product` in steps 3 and 4.** These are straightforward arithmetic (and can be folded into step 5 if we wanted to).\n",
        "- **Update the `remainder` in place in steps 2 and 5.** This is what we call **variable updating**, which we will get to in a moment.\n",
        "- **Repeat the process for each digit of the `dividend`.** This is iteration. We will spend most of our time here in this lesson."
      ]
    },
    {
      "cell_type": "markdown",
      "metadata": {
        "id": "gNiOGqexQckc"
      },
      "source": [
        "### **Variable Updating**\n",
        "Up to now whenever we have changed the value of a variable we have done it through variable (re-)assignment.\n",
        "```python\n",
        "x = 1\n",
        "something_happens()\n",
        "x = 2\n",
        "```\n",
        "**Variable updating deals with the case where the same variable is on both sides of the equal sign `=`.** The classic and simplest case is adding 1 to `x` (as in counting):\n",
        "```python\n",
        "x = x + 1\n",
        "```\n",
        "Since this is just a special case of variable assignment, the 3-step process we learned in Lesson 2 still applies:\n",
        "1. Recall the variable `x`, which already exists (or else we get an error).\n",
        "2. Evaluate the expression `x+1`, which adds 1 to the current value of `x` (but doesn't change `x` itself).\n",
        "3. Assign `x` the value calculated in step 2.  \n",
        "\n",
        "It makes sense, but only if you understand the order of things. The variable only has one value at a time, even though at first it looks like we are saying something sort of like `1 = 2`.\n",
        "\n",
        "A couple remarks:\n",
        "- **The variable `x` need not refer to numerical values.** We can do the same thing with strings, lists, or any other data type supported by Python. The steps are the same each time.   \n",
        "- **We can subtract as easily as we can add.** In fact, any expression can be on the right side. It just has to include the variable from the left hand side of the `=`.\n",
        "\n",
        "To improve execution efficiency and eliminate spelling errors, Python has built-in **update operators** (a.k.a. \"augmented assignment statements\") for certain special cases:\n",
        "- `x += 1` is the same as `x = x + 1`  \n",
        "- `x -= 1` is the same as `x = x - 1`  \n",
        "\n",
        "You should get the general idea. Other update operators include `/=`, `*=`, `@=` (for matrix multiplication), and a few more obscure ones. In practice you will likely only encounter `+=` and `-=`.\n",
        "\n",
        "### **Variable Updating in Long Division**\n",
        "The long division process includes 3 variable updates:\n",
        "- `remainder = remainder*10 + int(d)` (from step 2; recall that `d` was the next in a string of digits in the dividend)\n",
        "- `remainder -= product` (from step 5; subtracts the product from the remainder)\n",
        "- `quotient = quotient*10 + q` (also from step 5; appends the next digit to the quotient)\n",
        "\n",
        "We'll see how this all works (below) for two different versions of the long division code."
      ]
    },
    {
      "cell_type": "markdown",
      "metadata": {
        "id": "xHGQ1bscQckd"
      },
      "source": [
        "### **Pulse Check ...**\n",
        "Consider this snippet of code:\n",
        "```python\n",
        "x = 22\n",
        "x *= 3\n",
        "x += 15\n",
        "x /= 3\n",
        "x -= 4\n",
        "```\n",
        "**1. What is the final value of `x`?**"
      ]
    },
    {
      "cell_type": "markdown",
      "metadata": {
        "id": "N7dFoJc0Qckd"
      },
      "source": [
        "23.0"
      ]
    },
    {
      "cell_type": "code",
      "source": [
        "#@title Check Your Answer\n",
        "\n",
        "x = 22\n",
        "x *= 3\n",
        "x += 15\n",
        "x /= 3\n",
        "x -= 4\n",
        "x        # note the data type change!"
      ],
      "metadata": {
        "id": "3B5bv4qmPv_e"
      },
      "execution_count": null,
      "outputs": []
    },
    {
      "cell_type": "markdown",
      "metadata": {
        "id": "7CeKIL_7Qcke"
      },
      "source": [
        "**2. Combine the four updating steps (above) into one statement (using just one update operator).** Hint: you may need to do a little middle school pre-algebra."
      ]
    },
    {
      "cell_type": "code",
      "execution_count": null,
      "metadata": {
        "id": "x76Uo8ORQcke"
      },
      "outputs": [],
      "source": [
        "# YOUR ANSWER HERE\n",
        "x = ((22 * 3) + 15) / 3 - 4\n",
        "x"
      ]
    },
    {
      "cell_type": "code",
      "execution_count": null,
      "metadata": {
        "jupyter": {
          "source_hidden": true
        },
        "tags": [],
        "id": "TbXrXY25Cy60"
      },
      "outputs": [],
      "source": [
        "#@title  Check Your Answer\n",
        "\n",
        "x = 22\n",
        "# x = (((3x)+15)/3)-4 = (3x +15)/3 -4 = (x + 5) - 4 = x + 1\n",
        "x += float(1)\n",
        "x"
      ]
    },
    {
      "cell_type": "markdown",
      "metadata": {
        "id": "e9egTX0WQcki"
      },
      "source": [
        "---\n",
        "## **`while` Loops**\n",
        "If what we want to do is repeat a task an indefinite number of times, we can always use a `while` loop:\n",
        "```python\n",
        "while continuation_criterion:\n",
        "    loop_body_block\n",
        "else:\n",
        "    else_block\n",
        "```\n",
        "Python will execute the code like so:\n",
        "\n",
        "1. Evaluate the continuation criterion, which is always a boolean expression (evaluates to `True` or `False`) or equivalent (truthy via `bool()`).\n",
        "2. If the continuation criterion evaluates to `True` then execute the loop body block and return to Step 1. Otherwise, execute the else block (if it exists).\n",
        "\n",
        "A few notes:\n",
        "- **The `else` clause is optional.** It's used in cases where we need to ensure that _something_ happens, even when the continuation criterion is `False`. *Only use the `else` clause when you need it.*\n",
        "- Unless you know what you are doing, **make sure that the continuation criterion eventually evaluates to False.** That means that something has to happen inside the body of the loop to _cause_ the value of the continue expression to change. Otherwise the loop will continue forever.\n",
        "- Most of the time you will need to **initialize a variable (i.e., assign it a value)** used in your continuation criterion so that it evaluates to `True` the first time though the loop. That same variable (usually what is called an _accumulator_) will likely need to be updated with each pass of the loop. Often we do that at the end of the loop body.\n",
        "- **Just as with `if` statements, don't forget the colons.** They are needed by Python to know where the continuation criterion ends.\n",
        "- **We can create infinite loops by short-circuiting the boolean expression** (e.g., `while True: ...`). Then it is up to the loop body to terminate the loop using a `break` statement, which works similarly to `return` (for functions) except for loops. **Anytime that Python encounters a `break` it terminates the enclosing loop.**\n",
        "- We can short-circuit the loop body itself by using a `continue` statement to return to the top of the loop (Step 1) immediately, without executing the rest of the loop. This can make some things much, much faster.  \n",
        "\n",
        "Here's an example that generates the square of every number from 1 to 20:"
      ]
    },
    {
      "cell_type": "code",
      "execution_count": null,
      "metadata": {
        "id": "Dht8VaQEQcki",
        "outputId": "abc76889-701f-42d9-9f89-79058f74e77d"
      },
      "outputs": [
        {
          "name": "stdout",
          "output_type": "stream",
          "text": [
            "1\n",
            "4\n",
            "9\n",
            "16\n",
            "25\n",
            "36\n",
            "49\n",
            "64\n",
            "81\n",
            "100\n",
            "121\n",
            "144\n",
            "169\n",
            "196\n",
            "225\n",
            "256\n",
            "289\n",
            "324\n",
            "361\n",
            "400\n"
          ]
        }
      ],
      "source": [
        "i = 1            # initialize the counter variable\n",
        "while i <= 20:   # stop when i > 20\n",
        "    print(i * i) # output i squared\n",
        "    i += 1       # update the counter; take this out to create an infinite loop"
      ]
    },
    {
      "cell_type": "markdown",
      "metadata": {
        "id": "LcO_C1DpQckl"
      },
      "source": [
        "> ### **Warning About Infinite Loops**\n",
        "> An unchecked infinite loop can crash your computer by using up CPU and memory resources. When running the offending code on your laptop, you may suddenly hear the fan going all out like a jet engine or your hard disk might crash (if your loop writes to disk).\n",
        ">\n",
        "> If that happens, you will need to **shut down the runtime** as soon as possible. How you do that depends on the runtime environment. In JupyterHub that means restarting the _kernel_. In Colab it's called restarting the _runtime_. Look for those options in the menus. In the Python interpreter (i.e., command line, without menus) a shudown can be done with Control-C from the keyboard. Why Control-C? Because that is how it has always been since we first started using keyboards with computers. (Unless you are using Windows(tm), where it's Shift-Control-C instead.)"
      ]
    },
    {
      "cell_type": "markdown",
      "metadata": {
        "id": "zWvjr62AQckm"
      },
      "source": [
        "### **Chained Assignment**\n",
        "When initializing several variables at once it is sometimes convenient to use **chained assignment**:\n",
        "```python\n",
        "x = y = z = 1\n",
        "```\n",
        "The rightmost value is assigned to each of the variables to its left. In this case that means setting `x`, `y`, and `z` to 1."
      ]
    },
    {
      "cell_type": "markdown",
      "metadata": {
        "id": "rxIt6s_sQckm"
      },
      "source": [
        "### **Long Division with `while`**\n",
        "We can implement long division with a `while` loop. Read the comments to understand how it works."
      ]
    },
    {
      "cell_type": "code",
      "execution_count": null,
      "metadata": {
        "id": "rmVoMmXCQckn"
      },
      "outputs": [],
      "source": [
        "def long_division(dividend, divisor):\n",
        "\n",
        "  '''\n",
        "  Divides the dividend by the divisor.\n",
        "\n",
        "  - dividend: an integer number\n",
        "  - divisor: an integer, usually smaller than the dividend\n",
        "\n",
        "  Returns a dictionary {'quotient': ..., 'remainder: ...'}\n",
        "  '''\n",
        "\n",
        "  # Initialize variables\n",
        "  remainder = quotient = 0 # required by the long division algorithm; note the use of chained assignment\n",
        "\n",
        "  digits = str(dividend)   # convert dividend to a string of digit characters\n",
        "  i = 0                    # our counter used to indicate the current digit; Python counts from 0, not 1\n",
        "\n",
        "  while i < len(digits):   # len(digits) is the number of characters in the string\n",
        "\n",
        "      remainder = remainder*10 + int(digits[i])     # pull down the i-th digit into the remainder\n",
        "      q = remainder // divisor                      # determine the next digit of the quotient\n",
        "      product = q * divisor                         # calculate the product, and then ...\n",
        "      remainder -= product                          # subtract it from the remainder\n",
        "\n",
        "      quotient = quotient*10 + q                    # add the next digit to the quotient\n",
        "      i += 1                                        # update i to move to the next digit\n",
        "\n",
        "  return {'quotient':quotient,'remainder':remainder}"
      ]
    },
    {
      "cell_type": "code",
      "source": [
        "long_division(479, 7)"
      ],
      "metadata": {
        "id": "ByOaKI5aZX8W"
      },
      "execution_count": null,
      "outputs": []
    },
    {
      "cell_type": "markdown",
      "source": [
        "> **Tip:** Select and then mouse over `long_division` call in the cell above. Note that the doc-string (inside triple quotes) pops up to tell you what the function does.\n",
        ">\n",
        "> ![image.png](data:image/png;base64,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)"
      ],
      "metadata": {
        "id": "mBJP4sBWaAYJ"
      }
    },
    {
      "cell_type": "markdown",
      "metadata": {
        "id": "nkdP6LXqQckr"
      },
      "source": [
        "### **Pulse Check ...**\n",
        "**1. What does the following code do?** Add a comment to each line and then a comment on the top of the code summarizing what it does."
      ]
    },
    {
      "cell_type": "code",
      "source": [
        "i = total = 0\n",
        "while i <= 20:\n",
        "    total += i\n",
        "    i += 1\n",
        "\n",
        "total"
      ],
      "metadata": {
        "id": "c-FMFkicXv7T"
      },
      "execution_count": null,
      "outputs": []
    },
    {
      "cell_type": "code",
      "execution_count": null,
      "metadata": {
        "jupyter": {
          "source_hidden": true
        },
        "tags": [],
        "id": "Rh4DEPtECy63"
      },
      "outputs": [],
      "source": [
        "#@title Check Your Answer\n",
        "\n",
        "# Calculates the sume of the first 20 integers\n",
        "i = total = 0    # Initialize counter i and accumulator total\n",
        "while i <= 20:   # check to see if we're done\n",
        "    total += i   # add the count to the accumulator\n",
        "    i += 1       # update the count\n",
        "total            # display the total"
      ]
    },
    {
      "cell_type": "markdown",
      "metadata": {
        "id": "VXWsn3vOQcks",
        "tags": []
      },
      "source": [
        "**2. How would you calculate the same result in one line without using a loop.** Hint: Gauss was a very smart and lazy child. Google it."
      ]
    },
    {
      "cell_type": "code",
      "execution_count": null,
      "metadata": {
        "id": "R6IXZ1m-Qckt"
      },
      "outputs": [],
      "source": [
        "# Your code here.\n",
        "\n",
        "Total = 200 + 10"
      ]
    },
    {
      "cell_type": "code",
      "execution_count": null,
      "metadata": {
        "jupyter": {
          "source_hidden": true
        },
        "tags": [],
        "id": "VczFvuI0Cy64"
      },
      "outputs": [],
      "source": [
        "#@title Check Your Answer\n",
        "\n",
        "# Sum of integers up to N = N(N+1)/2\n",
        "20*21/2"
      ]
    },
    {
      "cell_type": "markdown",
      "metadata": {
        "id": "HHZ_CHKUQckw"
      },
      "source": [
        "---\n",
        "## **`for` Loops**\n",
        "Though `while` loops can be very useful, they do come with a lot of ceremony around initializing variables, crafting the right boolean expression at the top of the loop, and updating variables at the bottom of the loop.\n",
        "\n",
        "`for` loops are functionally equivalent to `while` loops but with all of the ceremony handled by Python behind the scenes:\n",
        "```python\n",
        "for i in sequence:\n",
        "    do_something_with_i\n",
        "else:\n",
        "    handle_empty_sequence\n",
        "```\n",
        "Remarks:\n",
        "- **The `sequence` is evaluated exactly once, before anything else.** It could be a string of characters, a list of items, or any number of other things that can be ordered (sorted) into a sequence.\n",
        "- **Each time through the loop the \"index\" variable `i` is updated to the next item in the sequence.** It does to have to be an integer. If we have a list of fruits, then each `i` is a fruit. It also does not need to be called `i`. We could use any valid Python variable name.\n",
        "- **The `else` clause, `continue`, and `break` apply here just like with `while` loops.** All are optional, of course. *Only use them when you need them.*  \n",
        "- **There are other special forms of indexing that we will learn about in later lessons.** The vast majority of the time the index is just like we have it here.\n",
        "\n",
        "Here is our \"squares up to 20\" code updated to use a `for` loop:"
      ]
    },
    {
      "cell_type": "code",
      "execution_count": null,
      "metadata": {
        "id": "aqZBFoEYQckw",
        "outputId": "bf9ff560-4c93-4e34-e055-3b0da8ba2f85"
      },
      "outputs": [
        {
          "name": "stdout",
          "output_type": "stream",
          "text": [
            "1\n",
            "4\n",
            "9\n",
            "16\n",
            "25\n",
            "36\n",
            "49\n",
            "64\n",
            "81\n",
            "100\n",
            "121\n",
            "144\n",
            "169\n",
            "196\n",
            "225\n",
            "256\n",
            "289\n",
            "324\n",
            "361\n",
            "400\n"
          ]
        }
      ],
      "source": [
        "for i in range(1,21):     # range(21) generates the sequence of numbers 1, 2, 3, ... 20\n",
        "    print(i*i)"
      ]
    },
    {
      "cell_type": "markdown",
      "metadata": {
        "id": "xT8BMdyFQckz"
      },
      "source": [
        "While it is just two lines shorter than the `while` version, **this code is much easier to maintain**, with a lot less work on the part of the programmer.\n",
        "### **Long Division with `for`**"
      ]
    },
    {
      "cell_type": "code",
      "execution_count": null,
      "metadata": {
        "id": "6bgwUIBiQckz"
      },
      "outputs": [],
      "source": [
        "def long_division(dividend, divisor):\n",
        "\n",
        "  '''\n",
        "  Divides the dividend by the divisor.\n",
        "\n",
        "  - dividend: an integer number\n",
        "  - divisor: an integer, usually smaller than the dividend\n",
        "\n",
        "  Returns a dictionary {'quotient': ..., 'remainder: ...'}\n",
        "  '''\n",
        "\n",
        "  # Initialize variables\n",
        "  remainder = quotient = 0                # required by the long division algorithm\n",
        "\n",
        "  for d in str(dividend):                 # for each digit of the dividend:\n",
        "      remainder = remainder*10 + int(d)     # pull down the i-th digit into the remainder\n",
        "      q = remainder // divisor              # determine the next digit of the quotient\n",
        "      product = q * divisor                 # calculate the product, and then ...\n",
        "      remainder -= product                  # subtract it from the remainder\n",
        "\n",
        "      quotient = quotient*10 + q            # add the next digit to the quotient\n",
        "\n",
        "  return {'quotient':quotient,'remainder':remainder}"
      ]
    },
    {
      "cell_type": "code",
      "source": [
        "long_division(479, 7)"
      ],
      "metadata": {
        "colab": {
          "base_uri": "https://localhost:8080/"
        },
        "id": "sqMx3-LGZnMQ",
        "outputId": "73863bfa-8174-4c6c-ecd4-dfb6688f712c"
      },
      "execution_count": null,
      "outputs": [
        {
          "output_type": "execute_result",
          "data": {
            "text/plain": [
              "{'quotient': 68, 'remainder': 3}"
            ]
          },
          "metadata": {},
          "execution_count": 11
        }
      ]
    },
    {
      "cell_type": "markdown",
      "metadata": {
        "id": "vA6Q56ytQck1"
      },
      "source": [
        "Can you spot what changed from the `while` loop version?\n",
        "- The conversion from an integer dividend to a string of digits is done with a single expression `str(dividend)`, without the need for initializing the `digits` variable.\n",
        "- The digit `d` _is_ the next digit. We no longer need to do the bookkeeping with `i` to mark out the digits.\n",
        "- There is no need to update anything from one pass to the next. The `for` loop does it for us. You'd have to do something special to force the loop to go on forever. Yay, no infinite loops!\n",
        "\n",
        "Perhaps this seems like nothing special but it really is easier to maintain this code. Instead of so much ceremonial code to implement the loop controls (continuation condition, accumulator variable, etc.), we now can focus pretty much entirely on the body of the loop, which is where the real work happens. `for` loops are the \"lazy, but smart\" version of `while` loops. When they are applicable, use them (unless there is an \"even lazier and smarter\" way with pandas or numpy)."
      ]
    },
    {
      "cell_type": "markdown",
      "metadata": {
        "id": "231rR9edQck2"
      },
      "source": [
        "### **Pulse Check ...**\n",
        "**1. Replace the `while` loop below with an equivalent ` for` loop.**\n",
        "```python\n",
        "i = total = 0\n",
        "while i <= 20:\n",
        "    total += i\n",
        "    i += 1\n",
        "```"
      ]
    },
    {
      "cell_type": "code",
      "execution_count": null,
      "metadata": {
        "id": "zZdH18ZUQck2",
        "tags": []
      },
      "outputs": [],
      "source": [
        "# YOUR CODE HERE"
      ]
    },
    {
      "cell_type": "code",
      "execution_count": null,
      "metadata": {
        "jupyter": {
          "source_hidden": true
        },
        "tags": [],
        "id": "2OkUT4LQCy65"
      },
      "outputs": [],
      "source": [
        "#@title Check Your Answer\n",
        "\n",
        "total = 0\n",
        "for i in range(21):\n",
        "    total += i"
      ]
    },
    {
      "cell_type": "markdown",
      "metadata": {
        "id": "t6kFeQiuQck5"
      },
      "source": [
        "**2. Explain what is happening in the code cell below. What does it tell us about how `for` loop indexes work in Python? How is it different from the way `while` loops work?**"
      ]
    },
    {
      "cell_type": "code",
      "execution_count": null,
      "metadata": {
        "id": "oS3IPy6BQck5"
      },
      "outputs": [],
      "source": [
        "for i in range(1,10):\n",
        "    print(i)\n",
        "    i += 10\n",
        "    print(i)\n",
        "    print(\"---\")"
      ]
    },
    {
      "cell_type": "markdown",
      "metadata": {
        "id": "jQXHz_skQck8",
        "tags": []
      },
      "source": [
        "YOUR ANSWER HERE."
      ]
    },
    {
      "cell_type": "code",
      "source": [
        "#@title Check Your Answer\n",
        "\n",
        "# The `for` clause at the top of the loop ignores whatever changes were made to `i` inside the loop.\n",
        "# In a later lesson we will consider whatt happens if the loop modifies the sequence represented here\n",
        "# by the `range()` function."
      ],
      "metadata": {
        "id": "Rncb8nC4cU2b"
      },
      "execution_count": null,
      "outputs": []
    },
    {
      "cell_type": "markdown",
      "metadata": {
        "id": "NgLeW2nqQck9"
      },
      "source": [
        "---\n",
        "\n",
        "### **The Accumulator Pattern: Iteration as a General Design Principle**\n",
        "In any profession there eventually develops a kind of shorthand language that everybody uses that others outside the profession find totally baffling. In programming we call these shorthand terms **[design patterns](https://en.wikipedia.org/wiki/Software_design_pattern), defined as \"standard problems with standard solutions\"**. Need to do A? Then try solutions X, Y, and Z. X, Y or X may involve thousands of lines of code but all we need to do is refer to them by their names.\n",
        "\n",
        "Iteration itself is not a design pattern. It is not a problem, after all. Instead, it represents an entire class of solutions to wide variety of programming problems.  Quite simply, any problem that involves acting on a set of things is likely to involve an iteration-based solution. The name we use for these sorts of problems is the **Accumulator Pattern**.  \n",
        "\n",
        "The Py4E textbook uses the term _accumulator_ for variables like `count` or `total` that are updated inside loops. Accumulators act as a kind of process memory, building up (accumulating) a record of what has happened so far.\n",
        "\n",
        "> Another accumulator was the `quotient` in our long division codes. We built it up one digit at a time.\n",
        "\n",
        "While these sorts of accumulators are great for introducing the concept, they are but the simplest examples of a much broader set of possibilities. We can, for example, accumulate transaction records at an ATM, or grades in a course, or ... well, just about anything that requires a precise record of past _iterations_ of a process. A database accumulates data and makes it persistent. A CSV file accumulates records with each row that is added. A machine learning model accumulates accuracy statistics with each test instance. In each case, the pattern is the same: accumulation of _artifacts_ by iterating over a set of items. And now we know how to handle each of these cases in our code."
      ]
    },
    {
      "cell_type": "markdown",
      "metadata": {
        "id": "OxHB-ygRQjcx"
      },
      "source": [
        "---\n",
        "## **Before you go ... Save your notebook to be sure it is up to date.**"
      ]
    },
    {
      "cell_type": "markdown",
      "metadata": {
        "id": "FWA7eErUpXE9"
      },
      "source": [
        "---\n",
        "> ## Every Tee Shirt Has a Story\n",
        "> ABOUT INFORMS    \n",
        "> Every couple years since at least 1988, I have made the trek to the annual meeting of the Institute for Operations Research and the Management Sciences (INFORMS). Before 1995, it was called ORSA/TIMS, not the most catchy of names, we'd all agree. Besides shedding the awkward name, the _other_ reason for the name change was to avoid TIMS (The Institute for Manage Science) being confused with the Decision Science Institute, which had recently had to change _its_ name from AIDS. (Yes, really.) As you can tell, math geeks are not marketing wizzes. Even the INFORMS name is kind of confusing. People think it's about IT, not really hard math and data science.  \n",
        ">\n",
        "> Each time I go to INFORMS I pick up one tee shirt. This particular shirt was swag from a company that makes modeling software. The pun on the front is totally in keeping with the INFORMS vibe. The meaningless flowchart just cinched it. This one is a keeper.\n",
        "\n",
        "![L5 Tee Front](https://github.com/christopherhuntley/data5405/blob/main/Photos/L05_TeeFront.jpeg?raw=true)\n",
        "![L5 Tee Back](https://github.com/christopherhuntley/data5405/blob/main/Photos/L05_TeeBack.jpeg?raw=true)\n",
        "\n",
        "## Copyright &copy; 2020 Christopher Huntley. All rights reserved."
      ]
    },
    {
      "cell_type": "code",
      "execution_count": null,
      "metadata": {
        "id": "W8-fhyrmCy66"
      },
      "outputs": [],
      "source": []
    }
  ],
  "metadata": {
    "colab": {
      "provenance": []
    },
    "kernelspec": {
      "display_name": "Python 3 (ipykernel)",
      "language": "python",
      "name": "python3"
    },
    "language_info": {
      "codemirror_mode": {
        "name": "ipython",
        "version": 3
      },
      "file_extension": ".py",
      "mimetype": "text/x-python",
      "name": "python",
      "nbconvert_exporter": "python",
      "pygments_lexer": "ipython3",
      "version": "3.8.15"
    }
  },
  "nbformat": 4,
  "nbformat_minor": 0
}