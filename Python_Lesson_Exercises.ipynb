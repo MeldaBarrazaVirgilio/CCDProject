{
  "nbformat": 4,
  "nbformat_minor": 0,
  "metadata": {
    "colab": {
      "provenance": [],
      "authorship_tag": "ABX9TyPEe3zZu3LzT76hyLBQfoTA",
      "include_colab_link": true
    },
    "kernelspec": {
      "name": "python3",
      "display_name": "Python 3"
    },
    "language_info": {
      "name": "python"
    }
  },
  "cells": [
    {
      "cell_type": "markdown",
      "metadata": {
        "id": "view-in-github",
        "colab_type": "text"
      },
      "source": [
        "<a href=\"https://colab.research.google.com/github/MeldaBarrazaVirgilio/CCDProject/blob/main/Python_Lesson_Exercises.ipynb\" target=\"_parent\"><img src=\"https://colab.research.google.com/assets/colab-badge.svg\" alt=\"Open In Colab\"/></a>"
      ]
    },
    {
      "cell_type": "markdown",
      "source": [
        "LESSON 1"
      ],
      "metadata": {
        "id": "1bbOqzXfzGEc"
      }
    },
    {
      "cell_type": "code",
      "execution_count": null,
      "metadata": {
        "colab": {
          "base_uri": "https://localhost:8080/"
        },
        "id": "0R4jZIXRLWaj",
        "outputId": "1cb96a7e-4e69-4988-eb34-972c9c4aa0b8"
      },
      "outputs": [
        {
          "output_type": "execute_result",
          "data": {
            "text/plain": [
              "9"
            ]
          },
          "metadata": {},
          "execution_count": 7
        }
      ],
      "source": [
        "x =  2 + 2\n",
        "\n",
        "x += 5\n",
        "x\n"
      ]
    },
    {
      "cell_type": "markdown",
      "source": [
        "LESSON 3"
      ],
      "metadata": {
        "id": "fz_bucMrzC0H"
      }
    },
    {
      "cell_type": "code",
      "source": [
        "if x == 0:\n",
        "  z = None\n",
        "  else:\n",
        "    z=y/x"
      ],
      "metadata": {
        "colab": {
          "base_uri": "https://localhost:8080/",
          "height": 106
        },
        "id": "MznPQtgwOej4",
        "outputId": "e75d9a1d-c386-4b79-f2bc-f2d0a23aa772"
      },
      "execution_count": null,
      "outputs": [
        {
          "output_type": "error",
          "ename": "SyntaxError",
          "evalue": "invalid syntax (<ipython-input-12-599328606ebb>, line 3)",
          "traceback": [
            "\u001b[0;36m  File \u001b[0;32m\"<ipython-input-12-599328606ebb>\"\u001b[0;36m, line \u001b[0;32m3\u001b[0m\n\u001b[0;31m    else:\u001b[0m\n\u001b[0m    ^\u001b[0m\n\u001b[0;31mSyntaxError\u001b[0m\u001b[0;31m:\u001b[0m invalid syntax\n"
          ]
        }
      ]
    },
    {
      "cell_type": "code",
      "source": [
        "x=1\n",
        "if x==2:\n",
        "    print(\"X is 2\")"
      ],
      "metadata": {
        "id": "flLABK96k6KO"
      },
      "execution_count": 1,
      "outputs": []
    },
    {
      "cell_type": "code",
      "source": [
        "(2>1), (2<1), (type(2>1))"
      ],
      "metadata": {
        "colab": {
          "base_uri": "https://localhost:8080/"
        },
        "id": "zOLB8UJ8l5KF",
        "outputId": "1043ca5a-b401-4134-eff3-f9af1064cf1b"
      },
      "execution_count": 10,
      "outputs": [
        {
          "output_type": "execute_result",
          "data": {
            "text/plain": [
              "(True, False, bool)"
            ]
          },
          "metadata": {},
          "execution_count": 10
        }
      ]
    },
    {
      "cell_type": "code",
      "source": [
        "(True or 15), (15 or True), (True == 15), ((True or 15) == (15 or True))"
      ],
      "metadata": {
        "colab": {
          "base_uri": "https://localhost:8080/"
        },
        "id": "GS_ZL3HkrV1R",
        "outputId": "0c6b0143-8bef-4491-fff4-0c3c173c54a8"
      },
      "execution_count": 15,
      "outputs": [
        {
          "output_type": "execute_result",
          "data": {
            "text/plain": [
              "(True, 15, False, False, 15)"
            ]
          },
          "metadata": {},
          "execution_count": 15
        }
      ]
    },
    {
      "cell_type": "code",
      "source": [
        "(True and 15), (15 and True), (15 == True), ((True and 15) == (15 and True))"
      ],
      "metadata": {
        "colab": {
          "base_uri": "https://localhost:8080/"
        },
        "id": "5q4Qii7osbxg",
        "outputId": "f3f478e1-4459-4b18-e4b1-8fed830ede49"
      },
      "execution_count": 18,
      "outputs": [
        {
          "output_type": "execute_result",
          "data": {
            "text/plain": [
              "(15, True, False, False)"
            ]
          },
          "metadata": {},
          "execution_count": 18
        }
      ]
    },
    {
      "cell_type": "code",
      "source": [
        "(2 < 3) and (3 < 6)"
      ],
      "metadata": {
        "colab": {
          "base_uri": "https://localhost:8080/"
        },
        "id": "xaFwrG41teRF",
        "outputId": "b80907be-ba0b-48e7-8e96-76ac5c92ddde"
      },
      "execution_count": 19,
      "outputs": [
        {
          "output_type": "execute_result",
          "data": {
            "text/plain": [
              "True"
            ]
          },
          "metadata": {},
          "execution_count": 19
        }
      ]
    },
    {
      "cell_type": "code",
      "source": [
        "True == True, (2 < 3) == (3 < 6)"
      ],
      "metadata": {
        "colab": {
          "base_uri": "https://localhost:8080/"
        },
        "id": "Dzm9c_0OtvtD",
        "outputId": "275a4ddf-6533-4023-e2fd-9c4ed5fd4c57"
      },
      "execution_count": 22,
      "outputs": [
        {
          "output_type": "execute_result",
          "data": {
            "text/plain": [
              "(True, True)"
            ]
          },
          "metadata": {},
          "execution_count": 22
        }
      ]
    },
    {
      "cell_type": "code",
      "source": [
        "True and not True, (2 < 3) and not (3 < 6)"
      ],
      "metadata": {
        "colab": {
          "base_uri": "https://localhost:8080/"
        },
        "id": "TnzoBb79uT30",
        "outputId": "aefc8019-9e07-42ba-87c3-99bceaa39457"
      },
      "execution_count": 25,
      "outputs": [
        {
          "output_type": "execute_result",
          "data": {
            "text/plain": [
              "(False, False)"
            ]
          },
          "metadata": {},
          "execution_count": 25
        }
      ]
    },
    {
      "cell_type": "code",
      "source": [
        "not((2 < 3) and not (3 < 6))"
      ],
      "metadata": {
        "colab": {
          "base_uri": "https://localhost:8080/"
        },
        "id": "aaJTG1_juxQs",
        "outputId": "84a8fe80-d5c7-41c1-d3f8-94877a380d97"
      },
      "execution_count": 26,
      "outputs": [
        {
          "output_type": "execute_result",
          "data": {
            "text/plain": [
              "True"
            ]
          },
          "metadata": {},
          "execution_count": 26
        }
      ]
    },
    {
      "cell_type": "code",
      "source": [
        "bool(\"0\"), bool(0) < bool(-1)"
      ],
      "metadata": {
        "colab": {
          "base_uri": "https://localhost:8080/"
        },
        "id": "8-7al3nDvAnJ",
        "outputId": "111b1526-5e65-4ce3-cc54-8bc354b29854"
      },
      "execution_count": 28,
      "outputs": [
        {
          "output_type": "execute_result",
          "data": {
            "text/plain": [
              "(True, True)"
            ]
          },
          "metadata": {},
          "execution_count": 28
        }
      ]
    },
    {
      "cell_type": "code",
      "source": [
        "if type(x) == int or type(x) == float:\n",
        "    if x != 0:\n",
        "       print(1/x)\n",
        "    else:\n",
        "       print(\"Cannot divide by zero\")\n",
        "else:\n",
        "    print(\"x must be a number\")"
      ],
      "metadata": {
        "colab": {
          "base_uri": "https://localhost:8080/"
        },
        "id": "clkBBKl9zACA",
        "outputId": "b999a9f9-328c-4611-a55d-ddd085a77e41"
      },
      "execution_count": 29,
      "outputs": [
        {
          "output_type": "stream",
          "name": "stdout",
          "text": [
            "1.0\n"
          ]
        }
      ]
    },
    {
      "cell_type": "code",
      "source": [
        "if type(x) == int or type(x) == float and x != 0:\n",
        "    print(1/x)\n",
        "elif type(x) == int or type(x) == float:\n",
        "    print(\"Cannot divide by zero\")\n",
        "else:\n",
        "    print(\"x must be a number\")"
      ],
      "metadata": {
        "colab": {
          "base_uri": "https://localhost:8080/"
        },
        "id": "_J0n46zRzioi",
        "outputId": "80d495de-2a29-405b-9c3e-960ce20c02bb"
      },
      "execution_count": 30,
      "outputs": [
        {
          "output_type": "stream",
          "name": "stdout",
          "text": [
            "1.0\n"
          ]
        }
      ]
    },
    {
      "cell_type": "code",
      "source": [
        "if type(x) != int and type(x) != float:\n",
        "    print(\"x must be a number\")\n",
        "elif x == 0 :\n",
        "    print(\"Cannot divide by zero\")\n",
        "else:\n",
        "    print(1/x)"
      ],
      "metadata": {
        "colab": {
          "base_uri": "https://localhost:8080/"
        },
        "id": "0j5Mi0XVzsAj",
        "outputId": "83312b9a-2139-472f-aa82-3d79147795f3"
      },
      "execution_count": 31,
      "outputs": [
        {
          "output_type": "stream",
          "name": "stdout",
          "text": [
            "1.0\n"
          ]
        }
      ]
    },
    {
      "cell_type": "code",
      "source": [
        "school = \"Sacred Heart\"\n",
        "if school == \"Fairfield\":\n",
        "    mascot = \"Stags\"\n",
        "else:\n",
        "    mascot = \"Pioneers\"\n",
        "print (\"Go \" + mascot + \"!\")"
      ],
      "metadata": {
        "colab": {
          "base_uri": "https://localhost:8080/"
        },
        "id": "eUdeQ41J0Tzn",
        "outputId": "80eb57ae-3fa3-4f6b-b838-e3f8c4c7ba47"
      },
      "execution_count": 35,
      "outputs": [
        {
          "output_type": "stream",
          "name": "stdout",
          "text": [
            "Go Pioneers!\n"
          ]
        }
      ]
    },
    {
      "cell_type": "code",
      "source": [
        "# Conditional #3\n",
        "\n",
        "school = \"Sacred Heart\"\n",
        "print(\"Go \" + (\"Stags\" if school else \"Pioneers\") + \"!\")"
      ],
      "metadata": {
        "colab": {
          "base_uri": "https://localhost:8080/"
        },
        "id": "eLxIt9zD1Rx6",
        "outputId": "7a4c9f8f-a350-46e5-84a4-acdad4bc4b20"
      },
      "execution_count": 36,
      "outputs": [
        {
          "output_type": "stream",
          "name": "stdout",
          "text": [
            "Go Stags!\n"
          ]
        }
      ]
    },
    {
      "cell_type": "code",
      "source": [
        "if x !=0 and y/x > 1:\n",
        "    print(\"Warning! y/x > 1\")"
      ],
      "metadata": {
        "colab": {
          "base_uri": "https://localhost:8080/",
          "height": 159
        },
        "id": "g-4d-fNX2Os4",
        "outputId": "6e8064ac-b4f0-43f2-fcfb-17ce0e8e4dd4"
      },
      "execution_count": 37,
      "outputs": [
        {
          "output_type": "error",
          "ename": "NameError",
          "evalue": "name 'y' is not defined",
          "traceback": [
            "\u001b[0;31m---------------------------------------------------------------------------\u001b[0m",
            "\u001b[0;31mNameError\u001b[0m                                 Traceback (most recent call last)",
            "\u001b[0;32m<ipython-input-37-c5d0c3cac408>\u001b[0m in \u001b[0;36m<cell line: 1>\u001b[0;34m()\u001b[0m\n\u001b[0;32m----> 1\u001b[0;31m \u001b[0;32mif\u001b[0m \u001b[0mx\u001b[0m \u001b[0;34m!=\u001b[0m\u001b[0;36m0\u001b[0m \u001b[0;32mand\u001b[0m \u001b[0my\u001b[0m\u001b[0;34m/\u001b[0m\u001b[0mx\u001b[0m \u001b[0;34m>\u001b[0m \u001b[0;36m1\u001b[0m\u001b[0;34m:\u001b[0m\u001b[0;34m\u001b[0m\u001b[0;34m\u001b[0m\u001b[0m\n\u001b[0m\u001b[1;32m      2\u001b[0m     \u001b[0mprint\u001b[0m\u001b[0;34m(\u001b[0m\u001b[0;34m\"Warning! y/x > 1\"\u001b[0m\u001b[0;34m)\u001b[0m\u001b[0;34m\u001b[0m\u001b[0;34m\u001b[0m\u001b[0m\n",
            "\u001b[0;31mNameError\u001b[0m: name 'y' is not defined"
          ]
        }
      ]
    },
    {
      "cell_type": "markdown",
      "source": [
        "LESSON 4"
      ],
      "metadata": {
        "id": "PTLUaQynVMCz"
      }
    },
    {
      "cell_type": "code",
      "source": [
        "import math\n",
        "print(math.pi)\n",
        "\n",
        "import random\n",
        "print(random.random())\n",
        "print(random.random())"
      ],
      "metadata": {
        "colab": {
          "base_uri": "https://localhost:8080/"
        },
        "id": "5mXvU73UVJU9",
        "outputId": "2d7c781a-ccf1-49bc-97cb-a77e24462234"
      },
      "execution_count": 1,
      "outputs": [
        {
          "output_type": "stream",
          "name": "stdout",
          "text": [
            "3.141592653589793\n",
            "0.02032494969192633\n",
            "0.4775448791987357\n"
          ]
        }
      ]
    },
    {
      "cell_type": "code",
      "source": [
        "def go_team(school):\n",
        "    if school == \"Fairfield\":\n",
        "        return \"Go Stags!\"\n",
        "    else:\n",
        "        return \"Go home!\"\n",
        "\n",
        "print(go_team(\"Marist\"))\n",
        "print(go_team(\"Fairfield\"))\n",
        "print(go_team)"
      ],
      "metadata": {
        "colab": {
          "base_uri": "https://localhost:8080/"
        },
        "id": "r8MUDdp-XJT-",
        "outputId": "d15dd901-f5ef-48dc-f7a6-ff00f018032c"
      },
      "execution_count": 2,
      "outputs": [
        {
          "output_type": "stream",
          "name": "stdout",
          "text": [
            "Go home!\n",
            "Go Stags!\n",
            "<function go_team at 0x795d202777f0>\n"
          ]
        }
      ]
    },
    {
      "cell_type": "code",
      "source": [
        "def double_value(x):\n",
        "  return x*2\n",
        "\n",
        "double_value(1+1)"
      ],
      "metadata": {
        "colab": {
          "base_uri": "https://localhost:8080/"
        },
        "id": "0yKG2_PDY4gn",
        "outputId": "b80ac36d-3e45-4f46-822e-7fda5998552f"
      },
      "execution_count": 5,
      "outputs": [
        {
          "output_type": "execute_result",
          "data": {
            "text/plain": [
              "4"
            ]
          },
          "metadata": {},
          "execution_count": 5
        }
      ]
    },
    {
      "cell_type": "code",
      "source": [
        "def go_team(sport, school=\"Fairfield\", gender_modifier=\"\"):\n",
        "    if school != \"Fairfield\":\n",
        "        return \"Go home!\"\n",
        "\n",
        "    gender_modifier_padded = gender_modifier + \" \" if gender_modifier else \"\"\n",
        "\n",
        "    return \"Go \"+ gender_modifier_padded + \"Stags \" + sport +\"!\"\n",
        "\n",
        "print(go_team(\"Tennis\", school=\"Marist\"))\n",
        "print(go_team(\"Lacrosse\", gender_modifier=\"Lady\"))\n",
        "print(go_team(\"Tennis\",\"Fairfield\"))\n",
        "print(go_team(\"Basketball\", gender_modifier=\"Lady\", school = \"Fairfield\"))\n",
        "print(go_team(\"Basketball\"))\n",
        "print(go_team())   # Error because sport is not optional"
      ],
      "metadata": {
        "colab": {
          "base_uri": "https://localhost:8080/",
          "height": 263
        },
        "id": "A2IcgIVGd2mO",
        "outputId": "a901404a-f2ff-4208-809f-7b5dba9b4070"
      },
      "execution_count": 7,
      "outputs": [
        {
          "output_type": "stream",
          "name": "stdout",
          "text": [
            "Go home!\n",
            "Go Lady Stags Lacrosse!\n",
            "Go Stags Tennis!\n",
            "Go Lady Stags Basketball!\n",
            "Go Stags Basketball!\n"
          ]
        },
        {
          "output_type": "error",
          "ename": "TypeError",
          "evalue": "go_team() missing 1 required positional argument: 'sport'",
          "traceback": [
            "\u001b[0;31m---------------------------------------------------------------------------\u001b[0m",
            "\u001b[0;31mTypeError\u001b[0m                                 Traceback (most recent call last)",
            "\u001b[0;32m<ipython-input-7-b15cd84cfe5a>\u001b[0m in \u001b[0;36m<cell line: 14>\u001b[0;34m()\u001b[0m\n\u001b[1;32m     12\u001b[0m \u001b[0mprint\u001b[0m\u001b[0;34m(\u001b[0m\u001b[0mgo_team\u001b[0m\u001b[0;34m(\u001b[0m\u001b[0;34m\"Basketball\"\u001b[0m\u001b[0;34m,\u001b[0m \u001b[0mgender_modifier\u001b[0m\u001b[0;34m=\u001b[0m\u001b[0;34m\"Lady\"\u001b[0m\u001b[0;34m,\u001b[0m \u001b[0mschool\u001b[0m \u001b[0;34m=\u001b[0m \u001b[0;34m\"Fairfield\"\u001b[0m\u001b[0;34m)\u001b[0m\u001b[0;34m)\u001b[0m\u001b[0;34m\u001b[0m\u001b[0;34m\u001b[0m\u001b[0m\n\u001b[1;32m     13\u001b[0m \u001b[0mprint\u001b[0m\u001b[0;34m(\u001b[0m\u001b[0mgo_team\u001b[0m\u001b[0;34m(\u001b[0m\u001b[0;34m\"Basketball\"\u001b[0m\u001b[0;34m)\u001b[0m\u001b[0;34m)\u001b[0m\u001b[0;34m\u001b[0m\u001b[0;34m\u001b[0m\u001b[0m\n\u001b[0;32m---> 14\u001b[0;31m \u001b[0mprint\u001b[0m\u001b[0;34m(\u001b[0m\u001b[0mgo_team\u001b[0m\u001b[0;34m(\u001b[0m\u001b[0;34m)\u001b[0m\u001b[0;34m)\u001b[0m   \u001b[0;31m# Error because sport is not optional\u001b[0m\u001b[0;34m\u001b[0m\u001b[0;34m\u001b[0m\u001b[0m\n\u001b[0m",
            "\u001b[0;31mTypeError\u001b[0m: go_team() missing 1 required positional argument: 'sport'"
          ]
        }
      ]
    },
    {
      "cell_type": "code",
      "source": [
        "def print_go_team(sport, school=\"Fairfield\", gender_modifier=\"\"):\n",
        "    print(go_team(sport,school,gender_modifier))\n",
        "\n",
        "print_go_team(\"Tennis\")\n",
        "print(\"-----\")\n",
        "print(print_go_team(\"Tennis\"))\n",
        "print(\"-----\")\n",
        "print(type(print_go_team(\"Tennis\")))"
      ],
      "metadata": {
        "colab": {
          "base_uri": "https://localhost:8080/"
        },
        "id": "3srP98m5g5vi",
        "outputId": "f46d04fa-f3a5-4e5c-8285-1a924fac1bd4"
      },
      "execution_count": 8,
      "outputs": [
        {
          "output_type": "stream",
          "name": "stdout",
          "text": [
            "Go Stags Tennis!\n",
            "-----\n",
            "Go Stags Tennis!\n",
            "None\n",
            "-----\n",
            "Go Stags Tennis!\n",
            "<class 'NoneType'>\n"
          ]
        }
      ]
    },
    {
      "cell_type": "code",
      "source": [
        "type(print('Hi'))"
      ],
      "metadata": {
        "colab": {
          "base_uri": "https://localhost:8080/"
        },
        "id": "uPcwZmlIhL2s",
        "outputId": "a0950d13-6d46-46d2-a56d-729f849b9e24"
      },
      "execution_count": 9,
      "outputs": [
        {
          "output_type": "stream",
          "name": "stdout",
          "text": [
            "Hi\n"
          ]
        },
        {
          "output_type": "execute_result",
          "data": {
            "text/plain": [
              "NoneType"
            ]
          },
          "metadata": {},
          "execution_count": 9
        }
      ]
    },
    {
      "cell_type": "code",
      "source": [
        "3/4*4+2"
      ],
      "metadata": {
        "colab": {
          "base_uri": "https://localhost:8080/"
        },
        "id": "cUzZuZEsjPEN",
        "outputId": "8819e52f-32d9-4a49-c3bd-6bfb8ed6db24"
      },
      "execution_count": 10,
      "outputs": [
        {
          "output_type": "execute_result",
          "data": {
            "text/plain": [
              "5.0"
            ]
          },
          "metadata": {},
          "execution_count": 10
        }
      ]
    }
  ]
}