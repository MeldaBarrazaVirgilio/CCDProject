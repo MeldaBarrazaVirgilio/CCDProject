{
  "cells": [
    {
      "cell_type": "markdown",
      "metadata": {
        "id": "kUYXaKGzwRJp"
      },
      "source": [
        "<img src=\"https://github.com/christopherhuntley/data5405/blob/main/img/Dolan.png?raw=true\" width=\"180px\" align=\"right\">\n",
        "\n",
        "# **Homework Exercises, Week 2**\n",
        "_Practice Exercises for Lessons 3 and 4._"
      ]
    },
    {
      "cell_type": "markdown",
      "metadata": {
        "tags": [],
        "id": "SkAZx7kXDNRa"
      },
      "source": [
        "## Lesson 3 Exercises\n",
        "\n",
        "### L3.E1\n",
        "Extend the `waist2hip_ratio` calculation from Lesson 2 to indicate body shape.\n",
        "- Copy your `waist2_hip_ratio` code from Lesson 2.\n",
        "- Add an `input()` statement to ask for the person's `gender`.\n",
        "- Add logic to return print \"Your shape is Apple\" or \"Your shape is Pear\" depending on the ratio and `gender`. For males, a `wasit2hip_ratio` greater than 0.9 is Apple shaped; othewise it is Pear shaped. For females, the threshold is 0.8.  \n",
        "- Comments might be nice too.\n",
        "\n",
        "Your output should look something like this:\n",
        "\n",
        "```\n",
        "Waist? 35\n",
        "Hip? 42\n",
        "Gender? M\n",
        "Your waist to hip ratio is 0.8333333333333334\n",
        "Your shape is Pear\n",
        "```"
      ]
    },
    {
      "cell_type": "code",
      "execution_count": 11,
      "metadata": {
        "id": "lomyYW86DNRb",
        "colab": {
          "base_uri": "https://localhost:8080/"
        },
        "outputId": "b06f65ae-65ee-41f9-c23c-c6a644b5d21f"
      },
      "outputs": [
        {
          "output_type": "stream",
          "name": "stdout",
          "text": [
            "Waist? 35\n",
            "Hip? 42\n",
            "Gender? F\n",
            "Your waist to hip ratio is 0.8333333333333334\n",
            "Your shape is Apple\n"
          ]
        }
      ],
      "source": [
        "# inputting measures for waist and hip\n",
        "waist_str = input(\"Waist? \")\n",
        "hip_str = input(\"Hip? \")\n",
        "\n",
        "# calculating waist to hip measure which = waist / hip\n",
        "waist2hip_ratio = float(waist_str) / float(hip_str)\n",
        "\n",
        "# inputting a gender\n",
        "gender = input(\"Gender? \")\n",
        "\n",
        "# determining shape with conditional expressions\n",
        "shape = (\n",
        "    \"Pear\" if gender.upper() == \"M\" and waist2hip_ratio < 0.9 else\n",
        "    \"Apple\" if gender.upper() == \"M\" and waist2hip_ratio >= 0.9 else\n",
        "    \"Pear\" if gender.upper() == \"F\" and waist2hip_ratio < 0.8 else\n",
        "    \"Apple\" if gender.upper() == \"F\" and waist2hip_ratio >= 0.8 else\n",
        "    \"Unknown\"\n",
        ")\n",
        "\n",
        "# show/print the result\n",
        "print(\"Your waist to hip ratio is\", waist2hip_ratio)\n",
        "print(\"Your shape is\", shape)\n"
      ]
    },
    {
      "cell_type": "markdown",
      "source": [
        "### L3.E2\n",
        "\n",
        "De-nest the following code so that there is only one if statement.\n",
        "\n",
        "\n",
        "\n",
        "```\n",
        "score = int(input(\"Enter your score: \"))\n",
        "if score >= 0:\n",
        "    if score < 60:\n",
        "        print(\"You got an F.\")\n",
        "    else:\n",
        "        if score < 70:\n",
        "            print(\"You got a D.\")\n",
        "        else:\n",
        "            if score < 80:\n",
        "                print(\"You got a C.\")\n",
        "            else:\n",
        "                if score < 90:\n",
        "                    print(\"You got a B.\")\n",
        "                else:\n",
        "                    if score <= 100:\n",
        "                        print(\"You got an A.\")\n",
        "                    else:\n",
        "                        print(\"Invalid score.\")\n",
        "else:\n",
        "    print(\"Invalid score.\")\n",
        "```\n",
        "\n"
      ],
      "metadata": {
        "id": "qjAIv84C_Fym"
      }
    },
    {
      "cell_type": "code",
      "source": [
        "# YOUR L3.E2 CODE HERE\n",
        "\n",
        "# input statement will say \"Enter your score\"\n",
        "score = int(input(\"Enter your score: \"))\n",
        "\n",
        "# simplify the if statements into conditional expressions\n",
        "print(\n",
        "    \"You got an F.\" if score >= 0 and score < 60 else\n",
        "    \"You got a D.\" if score >= 60 and score < 70 else\n",
        "    \"You got a C.\" if score >= 70 and score < 80 else\n",
        "    \"You got a B.\" if score >= 80 and score < 90 else\n",
        "    \"You got an A.\" if score >= 90 and score <= 100 else\n",
        "    \"Invalid score.\"\n",
        ")"
      ],
      "metadata": {
        "id": "37zWBeZH_fyt",
        "colab": {
          "base_uri": "https://localhost:8080/"
        },
        "outputId": "e6d4c0cd-9f1d-4673-ca8c-83fa16082a78"
      },
      "execution_count": 26,
      "outputs": [
        {
          "output_type": "stream",
          "name": "stdout",
          "text": [
            "Enter your score: 91\n",
            "You got an A.\n"
          ]
        }
      ]
    },
    {
      "cell_type": "markdown",
      "source": [
        "### L3.E3\n",
        "\n",
        "In the code below, replace the question marks so that the cell always selects the first variable (`a`, `b`, or `c`) that is truthy (i.e., bool() is True). Your code should work for _any_ values of the three variables.\n",
        "\n",
        "```\n",
        "a,b,c = 0,\"false\",[]\n",
        "\n",
        "a ? b ? c\n",
        "```"
      ],
      "metadata": {
        "id": "5sd7CBfT_tBy"
      }
    },
    {
      "cell_type": "code",
      "source": [
        "# YOUR L3.E3 CODE HERE\n",
        "\n",
        "a,b,c = 0,\"false\",[]\n",
        "\n",
        "# using \"or\" to select the first variable\n",
        "a or b or c"
      ],
      "metadata": {
        "id": "wDxdtKLgA_St",
        "colab": {
          "base_uri": "https://localhost:8080/"
        },
        "outputId": "c14e887e-d950-40f0-f31e-c8be5df84c55"
      },
      "execution_count": 34,
      "outputs": [
        {
          "output_type": "stream",
          "name": "stdout",
          "text": [
            "false\n"
          ]
        }
      ]
    },
    {
      "cell_type": "markdown",
      "metadata": {
        "id": "n0X7aG5QDNRc"
      },
      "source": [
        "## Lesson 4 Exercises"
      ]
    },
    {
      "cell_type": "markdown",
      "metadata": {
        "id": "6zf_xGi3DNRc"
      },
      "source": [
        "### L4.E1\n",
        "Repackage your `waist2hip_ratio` calculation from Lesson 3 as a function with the following requirements:\n",
        "- Name the function `w2h_ratio` with three parameters: `waist_inches`, `hip_inches`, `gender`\n",
        "- The function should return a string with the pattern \"For a {gender} with waist {waist} and hip {hip}, the w2h ratio is {waist2hip_ratio}, with a shape {shape}.\"\n",
        "- Round the ratio to 2 decimal places.\n",
        "- The shape is either \"Apple\" or \"Pear\".\n",
        "- Do not use `input()` to get data. **Let that be passed into the function via arguments.**\n",
        "- `waist_inches` and `hip_inches` can be given as anything that can be converted to `floats`.\n",
        "- You will need to santize your inputs before doing the calculations. The waist and hip measurements should be in inches. The gender needs to be either \"M\" or \"F\".\n",
        "- If `waist_inches` or `hip_inches` are invalid then return the string \"w2h_ratio: Invalid measurement(s)\"\n",
        "- If the gender is not \"M\" or \"F\" then return the string \"w2h_ratio: Unknown gender\""
      ]
    },
    {
      "cell_type": "code",
      "execution_count": 52,
      "metadata": {
        "tags": [],
        "id": "Df4CIJ7VDNRc",
        "colab": {
          "base_uri": "https://localhost:8080/"
        },
        "outputId": "9a7cd440-12e4-4fea-a8f0-63963e453dd4"
      },
      "outputs": [
        {
          "output_type": "stream",
          "name": "stdout",
          "text": [
            "Waist inches 35\n",
            "Hip inches 42\n",
            "Gender F\n",
            "For a F with waist 35.0 and hip 42.0 the w2h ratio is 0.83 with shape Apple.\n"
          ]
        }
      ],
      "source": [
        "# Defining functions: waist_inches, hip_inches, gender\n",
        "def w2h_ratio(waist_inches, hip_inches, gender):\n",
        "\n",
        "    # Convert waist_inches and hip_inches to floats\n",
        "    try:\n",
        "        waist = float(waist_inches)\n",
        "        hip = float(hip_inches)\n",
        "    # Identifying the ValueError\n",
        "    except ValueError:\n",
        "        return \"w2h_ratio: Invalid measurement(s)\"\n",
        "\n",
        "    # Check if waist or hip measurements are invalid\n",
        "    if waist <= 0 or hip <= 0:\n",
        "        return \"w2h_ratio: Invalid measurement(s)\"\n",
        "\n",
        "    # Finding if gender is not male or female\n",
        "    if gender.upper() not in [\"M\", \"F\"]:\n",
        "        return \"w2h_ratio: Unknown gender\"\n",
        "\n",
        "    # calculating waist to hip measure which = waist / hip\n",
        "    waist2hip_ratio = round(waist / hip, 2)\n",
        "\n",
        "    # determining shape\n",
        "    shape = (\n",
        "        \"Pear\" if gender.upper() == \"M\" and waist2hip_ratio < 0.9 else\n",
        "        \"Apple\" if gender.upper() == \"M\" and waist2hip_ratio >= 0.9 else\n",
        "        \"Pear\" if gender.upper() == \"F\" and waist2hip_ratio < 0.8 else\n",
        "        \"Apple\" if gender.upper() == \"F\" and waist2hip_ratio >= 0.8 else\n",
        "        \"Unknown\"\n",
        "    )\n",
        "\n",
        "    # return the result for waist to hip ratio and shape\n",
        "    return f\"For a {gender.upper()} with waist {waist} and hip {hip} the w2h ratio is {waist2hip_ratio} with shape {shape}.\"\n",
        "\n",
        "# Example\n",
        "waist_inches = 35\n",
        "hip_inches = 42\n",
        "gender = \"F\"\n",
        "\n",
        "# Showing the results\n",
        "print(f\"Waist inches {waist_inches}\")\n",
        "print(f\"Hip inches {hip_inches}\")\n",
        "print(f\"Gender {gender}\")\n",
        "print(w2h_ratio(waist_inches, hip_inches, gender))"
      ]
    },
    {
      "cell_type": "markdown",
      "metadata": {
        "id": "0ZJRF6IXDNRc"
      },
      "source": [
        "#### Use the code below to test your work. It should run without any exceptions/errors. Otherwise you have a bug in your function.\n"
      ]
    },
    {
      "cell_type": "code",
      "execution_count": 53,
      "metadata": {
        "tags": [],
        "id": "lY6vQhjzDNRd"
      },
      "outputs": [],
      "source": [
        "# Do not edit the test assertions below. Repeatedly edit your code (above) and rerun this cell until everything works.\n",
        "\n",
        "# Is function defined? Does it have the right signature?\n",
        "assert w2h_ratio(waist_inches=36,hip_inches=44,gender=\"M\") \\\n",
        "        == 'For a M with waist 36.0 and hip 44.0 the w2h ratio is 0.82 with shape Pear.'\n",
        "\n",
        "# Does it handle invalid genders correctly?\n",
        "assert w2h_ratio(36,44,\"B\") == \"w2h_ratio: Unknown gender\"\n",
        "\n",
        "# Does it handle \"divide by zero\" errors?\n",
        "assert w2h_ratio(36,0,\"M\") == \"w2h_ratio: Invalid measurement(s)\"\n",
        "\n",
        "# Does it handle negative numbers?\n",
        "assert w2h_ratio(-36,44,\"M\") == \"w2h_ratio: Invalid measurement(s)\"\n",
        "assert w2h_ratio(36,-44,\"M\") == \"w2h_ratio: Invalid measurement(s)\"\n",
        "\n",
        "# Does it handle non-numeric input?\n",
        "assert w2h_ratio(\"36 and a half\",44,\"M\") == \"w2h_ratio: Invalid measurement(s)\"\n",
        "assert w2h_ratio(\"36\",\"44 and a half\",\"M\") == \"w2h_ratio: Invalid measurement(s)\"\n",
        "assert w2h_ratio(\"36\",\"44\",\"M\") == 'For a M with waist 36.0 and hip 44.0 the w2h ratio is 0.82 with shape Pear.'\n",
        "\n",
        "# Does it calculate correctly for valid input?\n",
        "assert w2h_ratio(\"36\",\"38\",\"M\") == 'For a M with waist 36.0 and hip 38.0 the w2h ratio is 0.95 with shape Apple.'\n",
        "assert w2h_ratio(\"36\",\"42\",\"M\") == 'For a M with waist 36.0 and hip 42.0 the w2h ratio is 0.86 with shape Pear.'\n",
        "assert w2h_ratio(\"33\",\"36\",\"F\") == 'For a F with waist 33.0 and hip 36.0 the w2h ratio is 0.92 with shape Apple.'\n",
        "assert w2h_ratio(\"33\",\"44\",\"F\") == 'For a F with waist 33.0 and hip 44.0 the w2h ratio is 0.75 with shape Pear.'"
      ]
    },
    {
      "cell_type": "markdown",
      "metadata": {
        "id": "NpUwYfJIDNRd"
      },
      "source": [
        "## L4.E2\n",
        "\n",
        "Write a function named `add_numbers` that:\n",
        "- takes as parameters 2 numbers (`a` and `b`) to be added together\n",
        "- test each parameter to be sure it is numeric or can be converted to be numeric\n",
        "    - import the `numbers` module and then use `isinstance(<parameter>, numbers.Number)` to test each parameter for numeric type. Note: `<parameter>` is a placeholder for your parameter name; don't take it literally\n",
        "    - use the `isnumeric()` method (which works with strings)\n",
        "    - if neither is numeric (or equivalent) then `return 'Invalid Arguments'`\n",
        "- returns the sum of the arguments\n",
        "\n",
        "Be sure to test your function with a couple calls to be sure it works.\n",
        "\n",
        "Some challenges to try:\n",
        "- Raise a `ValueError` with the message \"arguments must be numeric or equivalent types\" if the validity check fails\n",
        "- Generalize the function to work with any number of arguments (like how `print()` works)\n",
        "- Write a few assertions to verify your code works as expected; there are examples right above ^^^^"
      ]
    },
    {
      "cell_type": "code",
      "source": [
        "# YOUR L4.E2 CODE HERE\n",
        "\n",
        "# Importing the numbers module\n",
        "import numbers\n",
        "\n",
        "# Defining a function named add_numbers that takes as parameters 2 numbers (a and b)\n",
        "def add_numbers(a, b):\n",
        "\n",
        "    # Using conditional expressions to be sure it is numeric or can be converted to be numeric and then  test each parameter for numeric type.\n",
        "    num1 = a if isinstance(a, numbers.Number) else (float(a) if isinstance(a, str) and a.isnumeric() else 'Invalid Arguments')\n",
        "    num2 = b if isinstance(b, numbers.Number) else (float(b) if isinstance(b, str) and b.isnumeric() else 'Invalid Arguments')\n",
        "\n",
        "    # Returning 'Invalid Arguments'\n",
        "    if num1 == 'Invalid Arguments' or num2 == 'Invalid Arguments':\n",
        "        return 'Invalid Arguments'\n",
        "\n",
        "    return num1 + num2\n",
        "\n",
        "# Examples\n",
        "# Output result: 8.0\n",
        "result = add_numbers(3, \"5\")\n",
        "print(\"Result:\", result)\n",
        "\n",
        "# Output result: 7.0\n",
        "result = add_numbers(\"2\", \"5\")\n",
        "print(\"Result:\", result)\n",
        "\n",
        "# Output result: Invalid Arguments\n",
        "result = add_numbers(\"3\", \"five\")\n",
        "print(\"Result:\", result)\n"
      ],
      "metadata": {
        "id": "wYSae8bVDmnq",
        "colab": {
          "base_uri": "https://localhost:8080/"
        },
        "outputId": "c9e4e747-d88a-4c8f-e1da-777c0fc92a67"
      },
      "execution_count": 64,
      "outputs": [
        {
          "output_type": "stream",
          "name": "stdout",
          "text": [
            "Result: 8.0\n",
            "Result: 7.0\n",
            "Result: Invalid Arguments\n"
          ]
        }
      ]
    }
  ],
  "metadata": {
    "colab": {
      "provenance": []
    },
    "kernelspec": {
      "display_name": "Python 3 (ipykernel)",
      "language": "python",
      "name": "python3"
    },
    "language_info": {
      "codemirror_mode": {
        "name": "ipython",
        "version": 3
      },
      "file_extension": ".py",
      "mimetype": "text/x-python",
      "name": "python",
      "nbconvert_exporter": "python",
      "pygments_lexer": "ipython3",
      "version": "3.8.15"
    }
  },
  "nbformat": 4,
  "nbformat_minor": 0
}