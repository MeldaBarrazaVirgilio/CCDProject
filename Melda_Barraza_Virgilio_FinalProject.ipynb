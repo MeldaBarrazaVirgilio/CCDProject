{
  "cells": [
    {
      "cell_type": "markdown",
      "metadata": {
        "id": "view-in-github",
        "colab_type": "text"
      },
      "source": [
        "<a href=\"https://colab.research.google.com/github/MeldaBarrazaVirgilio/CCDProject/blob/main/Melda_Barraza_Virgilio_FinalProject.ipynb\" target=\"_parent\"><img src=\"https://colab.research.google.com/assets/colab-badge.svg\" alt=\"Open In Colab\"/></a>"
      ]
    },
    {
      "cell_type": "markdown",
      "metadata": {
        "id": "kUYXaKGzwRJp"
      },
      "source": [
        "<img src=\"https://github.com/christopherhuntley/data5405/blob/main/img/Dolan.png?raw=true\" width=\"180px\" align=\"right\">\n",
        "\n",
        "# **Final Project: Challenge Problems**\n",
        "## Objectives\n",
        "In this assignment you will ...\n",
        "- demonstrate skill with programming logic and data structures\n",
        "- work semi-independently on moderately-complex challenge problems\n",
        "- create a new, professional-quality Jupyter notebook from scratch\n",
        "- stretch a little beyond what you have done so far in the course to learn something new\n",
        "\n",
        "## Scope\n",
        "There are two *Challenge Problems* listed below:\n",
        "- A **level 1** challenge with a narrow scope, solvable using basic Python logic and data types\n",
        "- A **level 2** challenge that involves one or more advanced elements\n",
        "\n",
        "Excluding comments, **each challenge can be completed in 20 lines or less** of straightforward, readable code. Your code may, of course, be longer than that but keep in mind that each line of code tends to make a program a little buggier and less flexible. Technical debt is a real thing; spend your capital wisely.\n",
        "\n",
        "## Ground Rules   \n",
        "- You may not import any modules except as directed.\n",
        "- You may consult any source (Lessons, Python.org, Stack Exchange, ChatGPT, etc.) that you can reach on the web _except_ those that address the problems given here. In other words, don't just copy/paste from some random website on the internet.\n",
        "- You are allowed (and encouraged!) to work with your classmates. **If doing so** then credit your classmates in your notebook. Just be aware that you are responsible for any errors copied from your classmates.\n",
        "- Professionalism counts. For each problem make your code as as [literate](https://en.wikipedia.org/wiki/Literate_programming) (readable) as possible:\n",
        "  - **_Writing literate code._** If you have any questions, consult [PEP-8 documentation](https://peps.python.org/pep-0008/), which provides an official style guide for literate Python code. Besides formatting, etc. literacy also refers to code complexity. Overly complex code that provides no advantage makes the code less literate.  \n",
        "  - **_Commenting your code to make it easy to follow._** Comments are an important part of your code. Top (\"block\") comments are used to describe logical blocks of code. Side (\"inline\") comments are used to provide implementation details for one line. And, of course, line length and indentation matter. Top comments line up with code blocks (and _almost never_ with the left margin). Side comments never extend the line beyond 80 characters. Generally, top comments are preferred for complex logic. Oh, and [properly-written docstrings](https://peps.python.org/pep-0257/) would be nice.\n",
        "  - **_Using Markdown to provide context for your code._** Make it easy for us to grade and perhaps give out partial credit. What problem are you addressing (use the names here)? What were the requirements (in your own words)? What approach did you take? If you just type out a big wall of unformatted text with occasional bold text then you will lose _all_ professionalism points for the problem. [Visual hierarchy](https://www.interaction-design.org/literature/topics/visual-hierarchy) matters; if you don't know what that means then read the linked article ASAP.  \n",
        "\n",
        "  You want your notebooks to be at least as polished as the lesson notebooks. Use the examples there for inspiration, but that should be the _minimum_ standard. That said, don't overdo things either. Too many comments (usually about obvious things), comments that don't match the code logic, poorly-written Markdown text, etc. can actually make code harder to read. Try to write code that can be read like a book. That's _literally_ what we mean by \"literate\" code.  \n",
        "\n",
        "  \n",
        "## Scoring\n",
        "The maximum score is 60 points:\n",
        "- 20 points for Challenge 1\n",
        "- 20 points for Challenge 2\n",
        "- 20 points for (individual) Code Review\n",
        "- Any extra credit accrued will be applied to raise your score to a maximum of 60 points\n",
        "\n",
        "**The code reviews will be with one or both of your instructors over Zoom.** You are expected to be able to walk through your code, line by line, explaining what the code does and why. _You may even be asked to modify the code live as directed by your instructors._\n",
        "\n",
        "**The scoring for the code reviews is intentially _very_ strict.** Only a true pro will get all 20 points. _Most students will get ~10 points_ and it is possible to get 0 points. Prepare accordingly.\n",
        "\n",
        "**Each review will last up to 15 minutes.** The session may be shorter if you demonstrate sufficient programming knowledge and competence, but it will not be longer. _Take care not to waste time on long explanations; you may need it to answer questions or modify code._\n",
        "\n",
        "**We will use a Google Sheet (to be posted to Google Classroom) to book reviews at 15 minute intervals.** If you are done with the project early and feel ready to close out the course, then you may Slack DM to your instructors (@phil maymin and @christopher huntley) to request an early booking.\n"
      ]
    },
    {
      "cell_type": "markdown",
      "metadata": {
        "id": "KIv7ddG1EEig"
      },
      "source": [
        "---\n",
        "## **Challenge 1: Perfect Numbers**\n",
        "\n",
        "### Problem\n",
        "Write a function called `is_perfect()` that determines if a given natural number `n` is perfect. A number is said to be perfect if it is equal to the sum of its divisors (excluding itself). The number 28 is perfect because 1+2+4+7+14 = 28. There are currently only 51 known perfect numbers, with the largest having 49,724,095 _digits_.\n",
        "\n",
        "> Note to math geniuses: You _can_ use mersenne primes to generate even perfect numbers but it is an open question whether odd perfect numbers exist. Don't assume anything tricky.\n",
        "\n",
        "### Hints/Suggestions\n",
        "- You will need to generate all divisors of a given number. Use a list for that. For the number 496 the divisor list would be `[1, 2, 4, 8, 16, 31, 62, 124, 248]`.\n",
        "- We need not try every number between 1 and `n` to see if it is a divisor. If m is a divisor of n then so is n/m. So, we only need to test the integers in the range 1 to $\\sqrt{n}+1$ to generate all the divisors. You'll find a function for calculating square roots in the math library.\n",
        "\n",
        "### Example Test Cases\n",
        "- The first five perfect numbers are 6, 28, 496, 8128, and 33550336. After that they get truly huge.   \n",
        "\n",
        "### Scoring Rubric\n",
        "- **Correct (14 points):** Returns the correct answer for _any_ whole number `n`.  \n",
        "- **Literate (4 points):** Well documented with meaningful Markdown and well-chosen and aligned code comments.\n",
        "- **Efficient (1 point):** Only tests numbers in the range 1 to $\\lfloor\\sqrt{n}+1\\rfloor$ when generating divisors.\n",
        "- **Robust (1 point):** Raises an appropriate error if `n` is not a natural number."
      ]
    },
    {
      "cell_type": "code",
      "execution_count": null,
      "metadata": {
        "id": "I7kKwGBXGQpr",
        "colab": {
          "base_uri": "https://localhost:8080/"
        },
        "outputId": "661816c9-4228-48f3-9de9-0070c2a9ba93"
      },
      "outputs": [
        {
          "output_type": "stream",
          "name": "stdout",
          "text": [
            "True\n",
            "True\n",
            "False\n",
            "True\n"
          ]
        }
      ],
      "source": [
        "import math\n",
        "\n",
        "def is_perfect(n):\n",
        "    # Check if n is a natural number\n",
        "    if type(n) is not int or n <= 0:\n",
        "        raise ValueError(\"n must be a natural-positive number\")\n",
        "\n",
        "    # Start the sum of divisors\n",
        "    sum_divisors = 0\n",
        "\n",
        "    # Iterate only up to the square root of n\n",
        "    for i in range(1, int(math.sqrt(n)) + 1):\n",
        "        if n % i == 0:\n",
        "            # i is a divisor\n",
        "            sum_divisors += i\n",
        "\n",
        "            # n // i is also a divisor, except when i == n // i\n",
        "            if i != 1 and i != n // i:\n",
        "                sum_divisors += n // i\n",
        "\n",
        "    # Check if the sum of divisors equals the number itself\n",
        "    return sum_divisors == n\n",
        "\n",
        "# Example usage\n",
        "print(is_perfect(28))\n",
        "print(is_perfect(496))\n",
        "print(is_perfect(12))\n",
        "print(is_perfect(6))"
      ]
    },
    {
      "cell_type": "markdown",
      "metadata": {
        "id": "AWTyiUHkwnjJ",
        "tags": []
      },
      "source": [
        "---\n",
        "## **Challenge 2: Egyptian Multiplication**\n",
        "### Problem\n",
        "The ancient Egyptians did not have numbers as we conceive of them today. There was no concept of digits or place values. This of course made everyday calculations a bit more _complicated_.\n",
        "\n",
        "Write a function `egyptian_multiply()` that\n",
        "- accepts as input two integers $x$ and $y$ (e.g., 25 and 7)  \n",
        "- calculates the product using ancient Egyptian arithmetic (see General Algorithm below)\n",
        "- returns a string formatted like \"25 x 7 = 112 + 56 + 7 = 175\".\n",
        "\n",
        "### General Algorithm\n",
        "In ancient Egypt, without even a basic numbering system, there was no way to express the times tables like every school child learns today. Even if there were, they would not have the place-value system needed to multiply numbers with 2 or more digits. Instead, Egyptian multiplication relied on basic sums like 3 x 2 = 2 + 2 + 2. This worked fine for small products but could be very tedious and error-prone for larger products like 1259 x 258, which could take days to add 258 to itself 1258 times.  So, they came up with an ingenious shortcut that saved lots of time and error.\n",
        "\n",
        "The procedure worked something like this:\n",
        "1. Assume that we are multiplying two numbers $x$ and $y$.\n",
        "2. Make a list of the powers of 2 (1,2,4,8,...), where each term is the sum of the previous term with itself (1, 1+1=2, 2+2=4, 4+4=8), stopping when the last number is at least as big as $x$. Call this list `powers_of_two`.\n",
        "3. Perform the same process as step 2 but with the first number being $y$ instead of $1$ (i.e., $y$, $y+y$, $y+y+y+y$, etc.) stopping when the list is the same length as `powers_of_two`. Let's call this second list `multiples_of_y`.\n",
        "4. Find the set of terms in `powers_of _two` that sum to exactly $x$.\n",
        "5. The product is then the sum of the terms in `multiples_of_y` that correspond to the terms we found in step 4.\n",
        "\n",
        "Here, for example, is how to calculate 22 x 7:\n",
        "1. $x$ = `22` and $y$ = `7`\n",
        "2. `powers_of_two` = `[1,2,4,8,16,32]`\n",
        "3. `multiples_of_y` = `[7,14,28,56,112,224]`\n",
        "4. `2+4+16=22`\n",
        "5. `14+28+112=154`\n",
        "\n",
        "The final output would be `\"22 x 7 = 14 + 28 + 112 = 154\"`.\n",
        "\n",
        "### Tips\n",
        "\n",
        "- [Egyptian multiplication](https://en.wikipedia.org/wiki/Ancient_Egyptian_multiplication) is very similar to so-called Russian Peasant multiplication. You may find the Russian Peasant version slightly easier to understand.\n",
        "- You *can* generate `powers_of_two` with a list comprehension but it may be easier to do it with a while loop. To be most efficient, it may make sense to generate `multiples_of_y` in the same loop.\n",
        "- Step 4 is a variation of the [knapsack problem](https://en.wikipedia.org/wiki/Knapsack_problem). You are trying to find the largest subset of the items (numbers 1, 2, 4, 8, 16, ...) that will fit (sum) inside the knapsack ($x$). The trick with most knapsack problems is to take a so-called \"greedy\" approach, where we try inserting items from biggest to smallest; with each item we insert, we have to adjust the remaining space in the knapsack to account. The logic is something like this:\n",
        "    1. Sort the items from largest to smallest.\n",
        "    2. Insert the biggest item that will fit into the knapsack.\n",
        "    3. Account for the space remaining in the knapsack after insertion.\n",
        "    4. Repeat 2 & 3 until the knapsack is filled.\n",
        "\n",
        "  In this case, you can exactly fill the knapsack with a single pass through the items. In other words, you only need to try each item once *as long as you start with the biggest ones first*.\n",
        "\n",
        "  Note: it is hard to get more specific than that without writing code.\n",
        "\n",
        "- To be sure the output string is formatted consistently consider using\n",
        "  - `\" + \".join()` to string together the terms from step 4.\n",
        "  - an f-string with placeholders for $x$, $y$, etc.\n",
        "\n",
        "- It is possible to complete this code in 14 lines of code (excluding comments). However, 20-25 lines is more realistic.\n",
        "\n",
        "### Example Test Cases\n",
        "- `egyptian_multiply(22,7)` --> `'22 x 7 = 14 + 28 + 112 = 154'`\n",
        "- `egyptian_multiply(85,60)` --> `'85 x 60 = 60 + 240 + 960 + 3840 = 5100'`\n",
        "- `egyptian_multiply(182,109)` --> `'182 x 109 = 218 + 436 + 1744 + 3488 + 13952 = 19838'`\n",
        "\n",
        "### Scoring Rubric\n",
        "\n",
        "- **Correct (16 points):** Implements all 5 steps correctly and returns character-perfect output. Don't forget to package it all with the function as specified.\n",
        "- **Literate (4 points):** Well documented with meaningful Markdown and properly aligned code comments\n",
        "- **Extra Credit (2 points):** The code uses **only** the addition (`+`) operator; no `*`,`/`,`-`, ... are allowed.\n",
        "\n"
      ]
    },
    {
      "cell_type": "code",
      "execution_count": null,
      "metadata": {
        "id": "Vi5zp2eJGQpr",
        "colab": {
          "base_uri": "https://localhost:8080/"
        },
        "outputId": "63f8f336-205b-48ef-990e-1f4103f5a387"
      },
      "outputs": [
        {
          "output_type": "stream",
          "name": "stdout",
          "text": [
            "22 x 7 = 112 + 28 + 14 = 154\n",
            "85 x 60 = 3840 + 960 + 240 = 5040\n",
            "182 x 109 = 13952 + 3488 + 1744 + 436 + 218 = 19838\n",
            "40 x 80 = 2560 + 640 = 3200\n"
          ]
        }
      ],
      "source": [
        "def egyptian_multiply(x, y):\n",
        "    # 1: Store the original value of x for the final output\n",
        "    original_x = x\n",
        "\n",
        "    # 2: Start a list for the powers_of_two and multiples_of_y\n",
        "    powers_of_two = []\n",
        "    multiples_of_y = []\n",
        "\n",
        "    # 3: Generate powers_of_two and multiples_of_y\n",
        "    current_power = 1\n",
        "    current_multiple = y\n",
        "    while current_power <= x:\n",
        "        current_power *= 2\n",
        "        current_multiple += current_multiple\n",
        "        powers_of_two.append(current_power)\n",
        "        multiples_of_y.append(current_multiple)\n",
        "\n",
        "    # 4: Find the set of terms in powers_of_two that sum to exactly x\n",
        "    terms = []\n",
        "    for i in range(len(powers_of_two) - 1, -1, -1):\n",
        "        if powers_of_two[i] <= x:\n",
        "            x -= powers_of_two[i]\n",
        "            terms.append(multiples_of_y[i])\n",
        "\n",
        "    # 5: Format the output string\n",
        "    terms_str = \" + \".join(map(str, terms))\n",
        "    result = sum(terms)\n",
        "    return f\"{original_x} x {y} = {terms_str} = {result}\"\n",
        "\n",
        "# Example test cases\n",
        "print(egyptian_multiply(22, 7))\n",
        "print(egyptian_multiply(85, 60))\n",
        "print(egyptian_multiply(182, 109))\n",
        "print(egyptian_multiply(40, 80))"
      ]
    }
  ],
  "metadata": {
    "colab": {
      "provenance": [],
      "include_colab_link": true
    },
    "kernelspec": {
      "display_name": "Python 3 (ipykernel)",
      "language": "python",
      "name": "python3"
    },
    "language_info": {
      "codemirror_mode": {
        "name": "ipython",
        "version": 3
      },
      "file_extension": ".py",
      "mimetype": "text/x-python",
      "name": "python",
      "nbconvert_exporter": "python",
      "pygments_lexer": "ipython3",
      "version": "3.8.15"
    }
  },
  "nbformat": 4,
  "nbformat_minor": 0
}