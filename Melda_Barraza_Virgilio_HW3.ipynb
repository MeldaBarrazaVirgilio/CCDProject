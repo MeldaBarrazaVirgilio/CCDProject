{
  "cells": [
    {
      "cell_type": "markdown",
      "metadata": {
        "id": "view-in-github",
        "colab_type": "text"
      },
      "source": [
        "<a href=\"https://colab.research.google.com/github/MeldaBarrazaVirgilio/CCDProject/blob/main/Melda_Barraza_Virgilio_HW3.ipynb\" target=\"_parent\"><img src=\"https://colab.research.google.com/assets/colab-badge.svg\" alt=\"Open In Colab\"/></a>"
      ]
    },
    {
      "cell_type": "markdown",
      "metadata": {
        "id": "kUYXaKGzwRJp"
      },
      "source": [
        "<img src=\"./img/Dolan.png\" width=\"180px\" align=\"right\">\n",
        "\n",
        "# **Homework Exercises, Week 3**\n",
        "_Practice Exercises for Lessons 5-7._"
      ]
    },
    {
      "cell_type": "markdown",
      "metadata": {
        "id": "gAh6WdgVDXw4"
      },
      "source": [
        "## Lesson 5 Exercises\n",
        "\n",
        "### L5.E1\n",
        "**Write a `for` loop to string together the first 20 natural numbers as a single integer. Then check to see if that integer is divisible by 3.** For the first 3 numbers the integer would be 123, which is 41*3.\n",
        "\n",
        "(Optional) For an extra challenge, try to do this without using the `*`, `/`, `%`, or `//` operator. Here's a [hint](https://en.wikipedia.org/wiki/Divisibility_rule) on how to do it efficiently."
      ]
    },
    {
      "cell_type": "code",
      "execution_count": 4,
      "metadata": {
        "id": "X-jzEqPzDXw4",
        "colab": {
          "base_uri": "https://localhost:8080/",
          "height": 35
        },
        "outputId": "0af37429-6a96-43eb-c499-43a1e3f4301a"
      },
      "outputs": [
        {
          "output_type": "execute_result",
          "data": {
            "text/plain": [
              "\"Is the number '1234567891011121314151617181920' divisible by 3? -->True<--\""
            ],
            "application/vnd.google.colaboratory.intrinsic+json": {
              "type": "string"
            }
          },
          "metadata": {},
          "execution_count": 4
        }
      ],
      "source": [
        "# empty string to accumulate numbers\n",
        "number_str = ''\n",
        "# loop numbers until 20\n",
        "for i in range(1, 21):\n",
        "    number_str += str(i)\n",
        "\n",
        "# Convert the string to an integer\n",
        "until_twenty = int(number_str)\n",
        "\n",
        "# Check divisibility by 3 using the sum of digits rule\n",
        "sum_digits = sum(int(digit) for digit in number_str)\n",
        "divisible_by3 = sum_digits % 3 == 0\n",
        "\n",
        "# Show the results\n",
        "(f\"Is the number '{until_twenty}' divisible by 3? -->{divisible_by3}<--\")"
      ]
    },
    {
      "cell_type": "code",
      "execution_count": null,
      "metadata": {
        "jupyter": {
          "source_hidden": true
        },
        "tags": [],
        "cellView": "form",
        "id": "Bc70M7GfDXw5",
        "colab": {
          "base_uri": "https://localhost:8080/"
        },
        "outputId": "c431b148-3a1f-449f-83c2-cddbebecb6f8"
      },
      "outputs": [
        {
          "output_type": "stream",
          "name": "stdout",
          "text": [
            "1234567891011121314151617181920 is not divisible by 3\n"
          ]
        }
      ],
      "source": [
        "#@title An L5.E1 solution\n",
        "\n",
        "number = \"\"\n",
        "for i in range(1,21):\n",
        "    number += str(i)\n",
        "number = int(number)\n",
        "\n",
        "if number % 3:\n",
        "    print(number,\"is divisible by 3\")\n",
        "else:\n",
        "    print(number,\"is not divisible by 3\")"
      ]
    },
    {
      "cell_type": "markdown",
      "metadata": {
        "id": "hElgyJMiDXw5"
      },
      "source": [
        "### L5.E2\n",
        "**Rewrite this code so that it prints all powers of 2 up to 2<sup>20</sup> _without using * or ** or pow()_.**     \n",
        "```python\n",
        "i = 0            # initialize the counter variable\n",
        "while i <= 20:   # stop when i > 20\n",
        "    print(i * i) # output i squared\n",
        "    i += 1       # update the counter\n",
        "```\n",
        "Hints:\n",
        "- Initialize and update an accumulator variable `power_of_2`.\n",
        "- One way to double something is to add it to itself."
      ]
    },
    {
      "cell_type": "code",
      "execution_count": 2,
      "metadata": {
        "id": "8xNyphL-DXw6",
        "colab": {
          "base_uri": "https://localhost:8080/"
        },
        "outputId": "abd400e0-15fb-4254-ea8a-6d767e611f1b"
      },
      "outputs": [
        {
          "output_type": "stream",
          "name": "stdout",
          "text": [
            "0 - 1\n",
            "1 - 2\n",
            "2 - 4\n",
            "3 - 8\n",
            "4 - 16\n",
            "5 - 32\n",
            "6 - 64\n",
            "7 - 128\n",
            "8 - 256\n",
            "9 - 512\n",
            "10 - 1024\n",
            "11 - 2048\n",
            "12 - 4096\n",
            "13 - 8192\n",
            "14 - 16384\n",
            "15 - 32768\n",
            "16 - 65536\n",
            "17 - 131072\n",
            "18 - 262144\n",
            "19 - 524288\n",
            "20 - 1048576\n"
          ]
        }
      ],
      "source": [
        "# start with a counter variable\n",
        "i = 0\n",
        "# follow with an accumulator variable\n",
        "power_of_2 = 1\n",
        "\n",
        "# stop when i > 20\n",
        "while i <= 20:\n",
        "    print(i, \"-\",power_of_2)  # output the current power of 2\n",
        "    power_of_2 += power_of_2  # double the value by adding it to itself\n",
        "    i += 1  # update the counter"
      ]
    },
    {
      "cell_type": "code",
      "execution_count": null,
      "metadata": {
        "jupyter": {
          "source_hidden": true
        },
        "tags": [],
        "id": "kuRczfIsDXw6",
        "cellView": "form"
      },
      "outputs": [],
      "source": [
        "#@title An L5.E2 solution\n",
        "\n",
        "i = 0 # initialize the counter variable\n",
        "power_of_2 = 1\n",
        "while i <= 20:   # stop when i > 20\n",
        "    print(i, power_of_2) # output\n",
        "    power_of_2 += power_of_2\n",
        "    i += 1       # update the counter"
      ]
    },
    {
      "cell_type": "markdown",
      "metadata": {
        "tags": [],
        "id": "iRCzw0jLDXw6"
      },
      "source": [
        "### L5.E3\n",
        "**Genius Challenge: Rewrite this code so that it prints every square up to 400 _without using * or ** or pow()_.** Take care not to ceate an infinite loop.\n",
        "```python\n",
        "odd = 1               # initialize our odd number sequence\n",
        "square = 0            # initialize the square number sequence\n",
        "while square < 400:   # stop when i > 20\n",
        "    \n",
        "    # your code here\n",
        "    \n",
        "    print(square)     \n",
        "```\n",
        "Hints:\n",
        "- The first few squares are 1, 4, 9, 16, ...\n",
        "- You can generate a sequence of odd numbers by starting with 1 and incrementing by 2 each time: 1, 3, 5, 7, ...\n",
        "- The increment from each square n<sup>2</sup> to the next (n+1)<sup>2</sup> is an increasing sequence of odd numbers:  (n+1)<sup>2</sup> - n<sup>2</sup> = n<sup>2</sup> +  2n + 1 -  n<sup>2</sup> = 2n+1."
      ]
    },
    {
      "cell_type": "code",
      "execution_count": 11,
      "metadata": {
        "id": "ehhClKiqDXw6",
        "colab": {
          "base_uri": "https://localhost:8080/"
        },
        "outputId": "9b28b7a5-e4e1-4eb9-adfb-44748279c36e"
      },
      "outputs": [
        {
          "output_type": "stream",
          "name": "stdout",
          "text": [
            "1\n",
            "4\n",
            "9\n",
            "16\n",
            "25\n",
            "36\n",
            "49\n",
            "64\n",
            "81\n",
            "100\n",
            "121\n",
            "144\n",
            "169\n",
            "196\n",
            "225\n",
            "256\n",
            "289\n",
            "324\n",
            "361\n",
            "400\n"
          ]
        }
      ],
      "source": [
        "odd = 1               # initialize our odd sequence\n",
        "square = 0            # initialize the square sequence\n",
        "while square < 400:   # stop when i > 20\n",
        "    square += odd     # add the current odd to square\n",
        "    odd += 2          # update to the next odd number\n",
        "    print(square)     # Showing the result"
      ]
    },
    {
      "cell_type": "code",
      "execution_count": null,
      "metadata": {
        "jupyter": {
          "source_hidden": true
        },
        "tags": [],
        "cellView": "form",
        "id": "TAbrOlK6DXw6",
        "colab": {
          "base_uri": "https://localhost:8080/"
        },
        "outputId": "18223747-a820-4721-f858-cace5057c78a"
      },
      "outputs": [
        {
          "output_type": "stream",
          "name": "stdout",
          "text": [
            "0 1\n",
            "1 2\n",
            "2 4\n",
            "3 8\n",
            "4 16\n",
            "5 32\n",
            "6 64\n",
            "7 128\n",
            "8 256\n",
            "9 512\n",
            "10 1024\n",
            "11 2048\n",
            "12 4096\n",
            "13 8192\n",
            "14 16384\n",
            "15 32768\n",
            "16 65536\n",
            "17 131072\n",
            "18 262144\n",
            "19 524288\n",
            "20 1048576\n"
          ]
        }
      ],
      "source": [
        "#@title An L5.E3 Solution\n",
        "i = 0 # initialize the counter variable\n",
        "power_of_2 = 1\n",
        "while i <= 20:   # stop when i > 20\n",
        "    print(i, power_of_2) # output\n",
        "    power_of_2 += power_of_2\n",
        "    i += 1       # update the counter"
      ]
    },
    {
      "cell_type": "markdown",
      "source": [
        "### L5.E4\n",
        "\n",
        "**Rewrite your L3.E3 code from Homework 2 as a `coalesce` function works for any number of arguments.**\n",
        "\n",
        "- Name the function `coalesce`; the name comes from a similar function in [SQL](https://cloud.google.com/bigquery/docs/reference/standard-sql/conditional_expressions#coalesce).\n",
        "- The function returns the first argument that does not evaluate to `None`; if they are all `None` then return `None`.\n",
        "- Use a `*args` parameter to get arguments as a list (actually a tuple); in the function body, omit the `*` (i.e., just `args`) when iterating over the arguments, like this:  \n",
        "  ```for argument in args: ...```\n",
        "- A few tests to see if it's right:\n",
        "```python\n",
        "  coalesce('None', None, None)     # returns 'None'\n",
        "  coalesce(None, [], None)         # returns []\n",
        "  coalesce(None, None, None, None) # returns None\n",
        "```\n",
        "- Suggestion: Try creating assertions for the tests ^^^."
      ],
      "metadata": {
        "id": "iMqeJ8GVC67T"
      }
    },
    {
      "cell_type": "code",
      "source": [
        "def coalesce(*args):                              # Define the function\n",
        "    for argument in args:                         # Iterate over the arguments\n",
        "        if argument is not None:                  # Check if the argument is not None\n",
        "            return argument                       # Return the first non-None argument\n",
        "    return None                                   # If all arguments are None, return None\n",
        "\n",
        "# Test using assertion\n",
        "assert coalesce('None', None, None) == 'None'      # returns 'None'\n",
        "assert coalesce(None, [], None) == []              # returns []\n",
        "assert coalesce(None, None, None, None) == None    # returns None"
      ],
      "metadata": {
        "id": "6WlqcnZOF5rD"
      },
      "execution_count": 13,
      "outputs": []
    },
    {
      "cell_type": "markdown",
      "metadata": {
        "id": "CQkiYUItDXw7"
      },
      "source": [
        "## Lesson 6 Exercises\n",
        "\n",
        "### L6.E1\n",
        "**Rewrite your `waist2hip_ratio()` function from Lesson 4 to use an f-string for the output text.**"
      ]
    },
    {
      "cell_type": "code",
      "execution_count": 18,
      "metadata": {
        "id": "LvRFxfb2DXw7"
      },
      "outputs": [],
      "source": [
        "# Defining functions: waist_inches, hip_inches, gender\n",
        "def w2h_ratio(waist_inches, hip_inches, gender):\n",
        "\n",
        "    # Convert waist_inches and hip_inches to floats\n",
        "    try:\n",
        "        waist = float(waist_inches)\n",
        "        hip = float(hip_inches)\n",
        "    # Identifying the ValueError\n",
        "    except ValueError:\n",
        "        return \"w2h_ratio: Invalid measurement(s)\"\n",
        "    # Check if waist or hip measurements are invalid\n",
        "    if waist <= 0 or hip <= 0:\n",
        "        return \"w2h_ratio: Invalid measurement(s)\"\n",
        "    # Finding if gender is not male or female\n",
        "    if gender.upper() not in [\"M\", \"F\"]:\n",
        "        return \"w2h_ratio: Unknown gender\"\n",
        "    # calculating waist to hip measure which = waist / hip\n",
        "    waist2hip_ratio = round(waist / hip, 2)\n",
        "    # determining shape\n",
        "    shape = (\n",
        "        \"Pear\" if gender.upper() == \"M\" and waist2hip_ratio < 0.9 else\n",
        "        \"Apple\" if gender.upper() == \"M\" and waist2hip_ratio >= 0.9 else\n",
        "        \"Pear\" if gender.upper() == \"F\" and waist2hip_ratio < 0.8 else\n",
        "        \"Apple\" if gender.upper() == \"F\" and waist2hip_ratio >= 0.8 else\n",
        "        \"Unknown\"\n",
        "    )\n",
        "\n",
        "    # return the result for waist to hip ratio and shape\n",
        "    ratio_text = f\"For a {gender.upper()} with waist {waist} and hip {hip}, the w2h ratio is {waist2hip_ratio} with shape {shape}.\"\n",
        "    return ratio_text\n",
        "\n",
        "# TEST ASSERTIONS\n",
        "# Defined functions & right signatures\n",
        "assert w2h_ratio(waist_inches=36, hip_inches=44, gender=\"M\") == 'For a M with waist 36.0 and hip 44.0, the w2h ratio is 0.82 with shape Pear.'\n",
        "# Calculating correctly for a valid input\n",
        "assert w2h_ratio(\"36\", \"38\", \"M\") == 'For a M with waist 36.0 and hip 38.0, the w2h ratio is 0.95 with shape Apple.'\n",
        "assert w2h_ratio(\"36\", \"42\", \"M\") == 'For a M with waist 36.0 and hip 42.0, the w2h ratio is 0.86 with shape Pear.'\n",
        "assert w2h_ratio(\"33\", \"36\", \"F\") == 'For a F with waist 33.0 and hip 36.0, the w2h ratio is 0.92 with shape Apple.'\n",
        "assert w2h_ratio(\"33\", \"44\", \"F\") == 'For a F with waist 33.0 and hip 44.0, the w2h ratio is 0.75 with shape Pear.'\n"
      ]
    },
    {
      "cell_type": "markdown",
      "metadata": {
        "id": "pRmJv8ICDXw7"
      },
      "source": [
        "### L6.E2\n",
        "**Write a function called `char_rotate()` that moves the first character of a string to the end of the string.** The function has one parameter (the string) and returns a new string with the first character rotated to the end.\n",
        "\n",
        "So for example ...\n",
        "```\n",
        "char_rotate(\"abcdef\")\n",
        "```\n",
        "\n",
        "returns\n",
        "```\n",
        "'bcdefa'\n",
        "```"
      ]
    },
    {
      "cell_type": "code",
      "execution_count": 22,
      "metadata": {
        "id": "nDl7KmTtDXw7",
        "colab": {
          "base_uri": "https://localhost:8080/",
          "height": 35
        },
        "outputId": "c9329542-c43e-4481-cc29-fdacb4bc9596"
      },
      "outputs": [
        {
          "output_type": "execute_result",
          "data": {
            "text/plain": [
              "'bcdefa'"
            ],
            "application/vnd.google.colaboratory.intrinsic+json": {
              "type": "string"
            }
          },
          "metadata": {},
          "execution_count": 22
        }
      ],
      "source": [
        "def char_rotate(s):       # Define the function\n",
        "    if len(s) == 0:       # Check if the string is empty\n",
        "        return s          # Return the empty string\n",
        "    return s[1:] + s[0]   # Concatenate/Add the second character to the end\n",
        "\n",
        "# Testing the result\n",
        "(char_rotate(\"abcdef\"))  # Output should be --> 'bcdefa'"
      ]
    },
    {
      "cell_type": "markdown",
      "metadata": {
        "id": "m21mvhLuDXw7"
      },
      "source": [
        "### L6.E3\n",
        "**Write a function called `igpay()` that takes in a word and returns the pig latin equivalent.**\n",
        "- Convert every letter to upper case. Latin does not have lowercase letters.\n",
        "- If the word starts with a vowel, then add \"YAY\" to the end of the word.\n",
        "- if the word starts with one or more consonants in a row, then move the consonants to the end (so the word starts with a vowel) and add \"AY\"\n",
        "- If the word does not contain at least one vowel then just return the word\n",
        "- Look out for infinite loops! Interrupt/restart the runtime if needed\n",
        "- There should not be any `print()` calls in your code.\n",
        "\n",
        "Hints:\n",
        "- Use your `char_rotate()` function from L6.E2.\n",
        "- There may be a string method or two that can simplify your code.\n",
        "- `igpay(\"pig\")` is \"IGPAY\"\n",
        "- `igpay(\"art\")` is \"ARTYAY\"\n",
        "- `igpay(\"thx\")` is \"thx\"\n",
        "- `igpay(\"\")`  is \"\""
      ]
    },
    {
      "cell_type": "code",
      "execution_count": 23,
      "metadata": {
        "id": "Uuaga4rzDXw8",
        "colab": {
          "base_uri": "https://localhost:8080/"
        },
        "outputId": "66852234-604a-4a7a-b729-d0b795a680f6"
      },
      "outputs": [
        {
          "output_type": "stream",
          "name": "stdout",
          "text": [
            "IGPAY\n",
            "ARTYAY\n",
            "thx\n",
            "\n"
          ]
        }
      ],
      "source": [
        "# Function to find intersection of characters between two strings\n",
        "def str_intersect(s1, s2):\n",
        "    for c in s1:\n",
        "        if c in s2:\n",
        "            return True\n",
        "    return False\n",
        "\n",
        "# Function to rotate the first character of a string to the end\n",
        "def char_rotate(s):\n",
        "    if len(s) == 0:\n",
        "        return s\n",
        "    return s[1:] + s[0]\n",
        "\n",
        "# Function to convert a word to its Pig Latin equivalent\n",
        "def igpay(word):\n",
        "    w = str(word).upper()  # Convert to upper case letters\n",
        "\n",
        "    # Handle the case where there are no vowels\n",
        "    if not str_intersect(\"AEIOU\", w):\n",
        "        return word\n",
        "\n",
        "    # Leading vowel case\n",
        "    if w[0] in \"AEIOU\":\n",
        "        return w + \"YAY\"\n",
        "\n",
        "    # Leading consonant(s) case\n",
        "    while w[0] not in \"AEIOU\":\n",
        "        w = char_rotate(w)\n",
        "\n",
        "    return w + \"AY\"\n",
        "\n",
        "# Example\n",
        "print(igpay(\"pig\"))  # IGPAY\n",
        "print(igpay(\"art\"))  # ARTYAY\n",
        "print(igpay(\"thx\"))  # thx\n",
        "print(igpay(\"\"))     # \"\"\n",
        "\n"
      ]
    },
    {
      "cell_type": "code",
      "execution_count": 24,
      "metadata": {
        "id": "CUZL--ZvDXw8"
      },
      "outputs": [],
      "source": [
        "# Run the assertions below to test your code. All should run without errors.\n",
        "assert igpay(\"pig\") == \"IGPAY\"\n",
        "assert igpay(\"art\") == \"ARTYAY\"\n",
        "assert igpay(\"thx\") == \"thx\"\n",
        "assert igpay(\"\") == \"\""
      ]
    }
  ],
  "metadata": {
    "colab": {
      "provenance": [],
      "include_colab_link": true
    },
    "kernelspec": {
      "display_name": "Python 3 (ipykernel)",
      "language": "python",
      "name": "python3"
    },
    "language_info": {
      "codemirror_mode": {
        "name": "ipython",
        "version": 3
      },
      "file_extension": ".py",
      "mimetype": "text/x-python",
      "name": "python",
      "nbconvert_exporter": "python",
      "pygments_lexer": "ipython3",
      "version": "3.8.15"
    }
  },
  "nbformat": 4,
  "nbformat_minor": 0
}